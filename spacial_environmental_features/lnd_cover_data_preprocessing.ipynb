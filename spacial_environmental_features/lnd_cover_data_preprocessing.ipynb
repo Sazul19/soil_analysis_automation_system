{
 "cells": [
  {
   "cell_type": "code",
   "execution_count": null,
   "metadata": {},
   "outputs": [],
   "source": [
    "def preprocess_land_cover(input_file, output_file, reclassification_map, aoi_bounds):\n",
    "    with rasterio.open(input_file) as src:\n",
    "        data = src.read(1)\n",
    "        \n",
    "        # Clip to AOI\n",
    "        clipped_data = data[aoi_bounds[1]:aoi_bounds[3], aoi_bounds[0]:aoi_bounds[2]]\n",
    "        \n",
    "        # Reclassify land cover categories\n",
    "        reclassified_data = np.copy(clipped_data)\n",
    "        for old_class, new_class in reclassification_map.items():\n",
    "            reclassified_data[clipped_data == old_class] = new_class\n",
    "        \n",
    "        # Save preprocessed land cover data\n",
    "        with rasterio.open(output_file, 'w', **src.meta) as dst:\n",
    "            dst.write(reclassified_data, 1)\n"
   ]
  },
  {
   "cell_type": "code",
   "execution_count": null,
   "metadata": {},
   "outputs": [],
   "source": [
    "land_cover_map = {1: 1, 2: 2, 3: 0}  # Example: reclassify water (1), forest (2), other (3)\n",
    "preprocess_land_cover('land_cover.tif', 'land_cover_preprocessed.tif', land_cover_map, aoi_bounds=(0, 0, 100, 100))"
   ]
  },
  {
   "cell_type": "markdown",
   "metadata": {},
   "source": []
  }
 ],
 "metadata": {
  "language_info": {
   "name": "python"
  }
 },
 "nbformat": 4,
 "nbformat_minor": 2
}
