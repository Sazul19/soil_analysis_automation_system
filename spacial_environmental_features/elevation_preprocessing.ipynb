{
 "cells": [
  {
   "cell_type": "code",
   "execution_count": null,
   "metadata": {},
   "outputs": [],
   "source": [
    "import richdem as rd"
   ]
  },
  {
   "cell_type": "code",
   "execution_count": null,
   "metadata": {},
   "outputs": [],
   "source": [
    "def preprocess_elevation(dem_file, output_slope_file, output_aspect_file):\n",
    "    dem = rd.LoadGDAL(dem_file)\n",
    "    \n",
    "    # Compute slope\n",
    "    slope = rd.TerrainAttribute(dem, attrib='slope_radians')\n",
    "    rd.SaveGDAL(output_slope_file, slope)\n",
    "    \n",
    "    # Compute aspect\n",
    "    aspect = rd.TerrainAttribute(dem, attrib='aspect')\n",
    "    rd.SaveGDAL(output_aspect_file, aspect)"
   ]
  },
  {
   "cell_type": "code",
   "execution_count": null,
   "metadata": {},
   "outputs": [],
   "source": [
    "preprocess_elevation('dem.tif', 'slope.tif', 'aspect.tif')"
   ]
  }
 ],
 "metadata": {
  "language_info": {
   "name": "python"
  }
 },
 "nbformat": 4,
 "nbformat_minor": 2
}
