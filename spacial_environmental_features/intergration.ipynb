{
 "cells": [
  {
   "cell_type": "code",
   "execution_count": null,
   "metadata": {},
   "outputs": [],
   "source": [
    "import pandas as pd"
   ]
  },
  {
   "cell_type": "code",
   "execution_count": null,
   "metadata": {},
   "outputs": [],
   "source": [
    "def integrate_spatial_features(feature_files, output_csv):\n",
    "    combined_features = {}\n",
    "    \n",
    "    for feature_name, file_path in feature_files.items():\n",
    "        with rasterio.open(file_path) as src:\n",
    "            data = src.read(1).flatten()\n",
    "            combined_features[feature_name] = data\n",
    "    \n",
    "    # Combine features into a DataFrame\n",
    "    df = pd.DataFrame(combined_features)\n",
    "    \n",
    "    # Save to CSV\n",
    "    df.to_csv(output_csv, index=False)"
   ]
  },
  {
   "cell_type": "code",
   "execution_count": null,
   "metadata": {},
   "outputs": [],
   "source": [
    "feature_files = {\n",
    "    'temperature': 'temperature_preprocessed.tif',\n",
    "    'precipitation': 'precipitation_preprocessed.tif',\n",
    "    'humidity': 'humidity_preprocessed.tif',\n",
    "    'slope': 'slope.tif',\n",
    "    'aspect': 'aspect.tif',\n",
    "    'land_cover': 'land_cover_preprocessed.tif'\n",
    "}\n",
    "integrate_spatial_features(feature_files, 'spatial_features.csv')"
   ]
  }
 ],
 "metadata": {
  "language_info": {
   "name": "python"
  }
 },
 "nbformat": 4,
 "nbformat_minor": 2
}
