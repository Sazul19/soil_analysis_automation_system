{
 "cells": [
  {
   "cell_type": "code",
   "execution_count": null,
   "metadata": {},
   "outputs": [],
   "source": [
    "def preprocess_humidity(input_file, output_file, aoi_bounds):\n",
    "    with rasterio.open(input_file) as src:\n",
    "        data = src.read(1)\n",
    "        \n",
    "        # Clip to AOI\n",
    "        clipped_data = data[aoi_bounds[1]:aoi_bounds[3], aoi_bounds[0]:aoi_bounds[2]]\n",
    "        \n",
    "        # Normalize humidity values\n",
    "        normalized_humidity = (clipped_data - np.min(clipped_data)) / (np.max(clipped_data) - np.min(clipped_data))\n",
    "        \n",
    "        # Save preprocessed humidity data\n",
    "        with rasterio.open(output_file, 'w', **src.meta) as dst:\n",
    "            dst.write(normalized_humidity, 1)\n"
   ]
  },
  {
   "cell_type": "code",
   "execution_count": null,
   "metadata": {},
   "outputs": [],
   "source": [
    "preprocess_humidity('humidity.tif', 'humidity_preprocessed.tif', aoi_bounds=(0, 0, 100, 100))"
   ]
  }
 ],
 "metadata": {
  "language_info": {
   "name": "python"
  }
 },
 "nbformat": 4,
 "nbformat_minor": 2
}
