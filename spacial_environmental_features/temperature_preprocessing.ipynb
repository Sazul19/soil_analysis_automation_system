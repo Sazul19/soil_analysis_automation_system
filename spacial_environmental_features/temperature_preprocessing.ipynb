{
 "cells": [
  {
   "cell_type": "code",
   "execution_count": null,
   "metadata": {},
   "outputs": [],
   "source": [
    "import rasterio\n",
    "from rasterio.enums import Resampling"
   ]
  },
  {
   "cell_type": "code",
   "execution_count": null,
   "metadata": {},
   "outputs": [],
   "source": [
    "def preprocess_temperature(input_file, output_file, target_resolution, aoi_bounds):\n",
    "    with rasterio.open(input_file) as src:\n",
    "      \n",
    "        resampled_data = src.read(\n",
    "            out_shape=(\n",
    "                src.count,\n",
    "                int(src.height * src.res[0] / target_resolution),\n",
    "                int(src.width * src.res[1] / target_resolution)\n",
    "            ),\n",
    "            resampling=Resampling.bilinear\n",
    "        )\n",
    "        \n",
    "        \n",
    "        clipped_data = resampled_data[\n",
    "            :, aoi_bounds[1]:aoi_bounds[3], aoi_bounds[0]:aoi_bounds[2]\n",
    "        ]\n",
    "        \n",
    "      \n",
    "        with rasterio.open(output_file, 'w', **src.meta) as dst:\n",
    "            dst.write(clipped_data)\n"
   ]
  }
 ],
 "metadata": {
  "language_info": {
   "name": "python"
  }
 },
 "nbformat": 4,
 "nbformat_minor": 2
}
