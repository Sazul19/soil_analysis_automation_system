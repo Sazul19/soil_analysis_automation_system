{
 "cells": [
  {
   "cell_type": "code",
   "execution_count": null,
   "metadata": {},
   "outputs": [],
   "source": [
    "import numpy as np"
   ]
  },
  {
   "cell_type": "code",
   "execution_count": null,
   "metadata": {},
   "outputs": [],
   "source": [
    "def preprocess_precipitation(input_file, output_file, aoi_bounds):\n",
    "    with rasterio.open(input_file) as src:\n",
    "        data = src.read(1)\n",
    "        \n",
    "        # Clip precipitation to AOI bounds\n",
    "        clipped_data = data[aoi_bounds[1]:aoi_bounds[3], aoi_bounds[0]:aoi_bounds[2]]\n",
    "        \n",
    "        # Aggregate precipitation (e.g., sum for annual data)\n",
    "        annual_precip = np.sum(clipped_data, axis=0)\n",
    "        \n",
    "        # Save preprocessed precipitation data\n",
    "        with rasterio.open(output_file, 'w', **src.meta) as dst:\n",
    "            dst.write(annual_precip, 1)\n"
   ]
  },
  {
   "cell_type": "code",
   "execution_count": null,
   "metadata": {},
   "outputs": [],
   "source": [
    "preprocess_precipitation('precipitation.tif', 'precipitation_preprocessed.tif', aoi_bounds=(0, 0, 100, 100))"
   ]
  }
 ],
 "metadata": {
  "language_info": {
   "name": "python"
  }
 },
 "nbformat": 4,
 "nbformat_minor": 2
}
