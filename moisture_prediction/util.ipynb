{
 "cells": [
  {
   "cell_type": "code",
   "execution_count": null,
   "metadata": {},
   "outputs": [],
   "source": [
    "from smap_io import SMAP\n",
    "\n",
    "# Define the parameters for downloading SMAP data\n",
    "product = \"SPL4SMGP\"  # Example product (L4)\n",
    "start_date = \"2023-01-01\"\n",
    "end_date = \"2023-01-10\"\n",
    "output_dir = \"./smap_data\"\n",
    "\n",
    "# Initialize the SMAP downloader\n",
    "smap = SMAP(product=product, start_date=start_date, end_date=end_date, output_dir=output_dir)\n",
    "\n",
    "# Download the data\n",
    "smap.download()\n",
    "\n",
    "print(f\"SMAP data downloaded to {output_dir}\")"
   ]
  }
 ],
 "metadata": {
  "language_info": {
   "name": "python"
  }
 },
 "nbformat": 4,
 "nbformat_minor": 2
}
