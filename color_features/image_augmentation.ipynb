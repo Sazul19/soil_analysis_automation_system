{
 "cells": [
  {
   "cell_type": "code",
   "execution_count": null,
   "metadata": {},
   "outputs": [],
   "source": [
    "import os\n",
    "import random\n",
    "from PIL import Image\n",
    "from albumentations import (\n",
    "    HorizontalFlip, VerticalFlip, RandomRotate90, ShiftScaleRotate, \n",
    "    RandomBrightnessContrast, HueSaturationValue, Resize, Compose\n",
    ")\n",
    "from albumentations.core.composition import OneOf"
   ]
  },
  {
   "cell_type": "code",
   "execution_count": null,
   "metadata": {},
   "outputs": [],
   "source": [
    "input_dir = \"./cleaned_dataset\"  \n",
    "output_dir = \"./augmented_dataset\"  \n",
    "os.makedirs(output_dir, exist_ok=True)"
   ]
  },
  {
   "cell_type": "code",
   "execution_count": null,
   "metadata": {},
   "outputs": [],
   "source": [
    "def get_augmentation_pipeline():\n",
    "    return Compose([\n",
    "        HorizontalFlip(p=0.5),  # Randomly flip images horizontally\n",
    "        VerticalFlip(p=0.5),    # Randomly flip images vertically\n",
    "        RandomRotate90(p=0.5),  # Rotate by 90 degrees randomly\n",
    "        ShiftScaleRotate(shift_limit=0.1, scale_limit=0.1, rotate_limit=30, p=0.7),\n",
    "        RandomBrightnessContrast(brightness_limit=0.2, contrast_limit=0.2, p=0.7),\n",
    "        HueSaturationValue(hue_shift_limit=20, sat_shift_limit=30, val_shift_limit=20, p=0.7),\n",
    "        Resize(256, 256)  # Resize all images to 256x256 pixels\n",
    "    ])"
   ]
  },
  {
   "cell_type": "code",
   "execution_count": null,
   "metadata": {},
   "outputs": [],
   "source": [
    "def augment_images_for_soil_type(soil_type_dir, output_type_dir, num_augmentations=5):\n",
    "    os.makedirs(output_type_dir, exist_ok=True)\n",
    "    \n",
    "    # Load augmentation pipeline\n",
    "    augment_pipeline = get_augmentation_pipeline()\n",
    "    \n",
    "    # Process each image in the soil type directory\n",
    "    for filename in os.listdir(soil_type_dir):\n",
    "        if not filename.lower().endswith(('.png', '.jpg', '.jpeg')):\n",
    "            continue\n",
    "        \n",
    "        image_path = os.path.join(soil_type_dir, filename)\n",
    "        image = Image.open(image_path).convert(\"RGB\")  # Open image and ensure RGB\n",
    "        \n",
    "        for i in range(num_augmentations):\n",
    "            # Apply augmentation\n",
    "            image_array = np.array(image)\n",
    "            augmented = augment_pipeline(image=image_array)\n",
    "            \n",
    "            # Save augmented image\n",
    "            augmented_image = Image.fromarray(augmented['image'])\n",
    "            augmented_filename = f\"{os.path.splitext(filename)[0]}_aug_{i+1}.jpg\"\n",
    "            augmented_image.save(os.path.join(output_type_dir, augmented_filename))\n"
   ]
  },
  {
   "cell_type": "code",
   "execution_count": null,
   "metadata": {},
   "outputs": [],
   "source": [
    "def augment_dataset(input_dir, output_dir, num_augmentations=5):\n",
    "    for soil_type in os.listdir(input_dir):\n",
    "        soil_type_dir = os.path.join(input_dir, soil_type)\n",
    "        output_type_dir = os.path.join(output_dir, soil_type)\n",
    "        \n",
    "        if os.path.isdir(soil_type_dir):\n",
    "            print(f\"Augmenting images for soil type: {soil_type}\")\n",
    "            augment_images_for_soil_type(soil_type_dir, output_type_dir, num_augmentations)"
   ]
  },
  {
   "cell_type": "code",
   "execution_count": null,
   "metadata": {},
   "outputs": [],
   "source": [
    "augment_dataset(input_dir, output_dir, num_augmentations=5)\n",
    "print(\"Data augmentation completed!\")"
   ]
  }
 ],
 "metadata": {
  "language_info": {
   "name": "python"
  }
 },
 "nbformat": 4,
 "nbformat_minor": 2
}
