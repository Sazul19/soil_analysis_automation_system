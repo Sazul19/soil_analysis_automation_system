{
 "cells": [
  {
   "cell_type": "code",
   "execution_count": 1,
   "metadata": {},
   "outputs": [
    {
     "name": "stderr",
     "output_type": "stream",
     "text": [
      "2025-03-24 07:44:10.639026: E external/local_xla/xla/stream_executor/cuda/cuda_fft.cc:467] Unable to register cuFFT factory: Attempting to register factory for plugin cuFFT when one has already been registered\n",
      "WARNING: All log messages before absl::InitializeLog() is called are written to STDERR\n",
      "E0000 00:00:1742782450.660219   94153 cuda_dnn.cc:8579] Unable to register cuDNN factory: Attempting to register factory for plugin cuDNN when one has already been registered\n",
      "E0000 00:00:1742782450.666637   94153 cuda_blas.cc:1407] Unable to register cuBLAS factory: Attempting to register factory for plugin cuBLAS when one has already been registered\n",
      "W0000 00:00:1742782450.684733   94153 computation_placer.cc:177] computation placer already registered. Please check linkage and avoid linking the same target more than once.\n",
      "W0000 00:00:1742782450.684763   94153 computation_placer.cc:177] computation placer already registered. Please check linkage and avoid linking the same target more than once.\n",
      "W0000 00:00:1742782450.684765   94153 computation_placer.cc:177] computation placer already registered. Please check linkage and avoid linking the same target more than once.\n",
      "W0000 00:00:1742782450.684766   94153 computation_placer.cc:177] computation placer already registered. Please check linkage and avoid linking the same target more than once.\n",
      "2025-03-24 07:44:10.689895: I tensorflow/core/platform/cpu_feature_guard.cc:210] This TensorFlow binary is optimized to use available CPU instructions in performance-critical operations.\n",
      "To enable the following instructions: AVX2 FMA, in other operations, rebuild TensorFlow with the appropriate compiler flags.\n"
     ]
    }
   ],
   "source": [
    "# Import necessary libraries\n",
    "import numpy as np\n",
    "import pandas as pd\n",
    "import tensorflow as tf\n",
    "from tensorflow.keras.layers import Input, Dense, BatchNormalization, Dropout\n",
    "from tensorflow.keras.models import Model\n",
    "from sklearn.metrics import accuracy_score, mean_absolute_error"
   ]
  },
  {
   "cell_type": "code",
   "execution_count": null,
   "metadata": {},
   "outputs": [
    {
     "name": "stdout",
     "output_type": "stream",
     "text": [
      "First few rows of the dataset:\n",
      "   Hue  Value  Chroma         r         g         b         L         A  \\\n",
      "0  10B    1.0       1  0.069966  0.102321  0.125645  8.766975 -1.873666   \n",
      "1  10B    1.0       2  0.047615  0.104012  0.144154  8.752576 -2.435589   \n",
      "2  10B    1.0       3  0.012557  0.106032  0.164007  8.734874 -3.121113   \n",
      "3  10B    1.0       4  0.000000  0.108210  0.184417  9.105021 -1.903252   \n",
      "4  10B    1.0       5  0.000000  0.110270  0.204285  9.653357  0.194611   \n",
      "\n",
      "           B  \n",
      "0  -5.355077  \n",
      "1  -8.942874  \n",
      "2 -12.765529  \n",
      "3 -16.018042  \n",
      "4 -18.828227  \n",
      "\n",
      "Data Info:\n",
      "<class 'pandas.core.frame.DataFrame'>\n",
      "RangeIndex: 10447 entries, 0 to 10446\n",
      "Data columns (total 9 columns):\n",
      " #   Column  Non-Null Count  Dtype  \n",
      "---  ------  --------------  -----  \n",
      " 0   Hue     10447 non-null  object \n",
      " 1   Value   10447 non-null  float64\n",
      " 2   Chroma  10447 non-null  int64  \n",
      " 3   r       10447 non-null  float64\n",
      " 4   g       10447 non-null  float64\n",
      " 5   b       10447 non-null  float64\n",
      " 6   L       10447 non-null  float64\n",
      " 7   A       10447 non-null  float64\n",
      " 8   B       10447 non-null  float64\n",
      "dtypes: float64(7), int64(1), object(1)\n",
      "memory usage: 734.7+ KB\n",
      "None\n"
     ]
    }
   ],
   "source": [
    "# Define the function to load the dataset\n",
    "def load_data(file_path):\n",
    "    # Read the CSV file\n",
    "    data = pd.read_csv(file_path, header=None, skiprows=1)  # Skip the first row if it contains incorrect headers\n",
    "    \n",
    "    # Assign column names based on the structure of the file\n",
    "    data.columns = [\n",
    "        \"Hue\", \"Value\", \"Chroma\", \"r\", \"g\", \"b\", \n",
    "        \"L\", \"A\", \"B\"\n",
    "    ]\n",
    "    \n",
    "    # Inspect the data\n",
    "    print(\"First few rows of the dataset:\")\n",
    "    print(data.head())\n",
    "    print(\"\\nData Info:\")\n",
    "    print(data.info())\n",
    "    \n",
    "    return data\n",
    "\n",
    "# Load the dataset\n",
    "file_path = \"/home/sala/data/equivalent_munsell.csv\"  # Replace with the actual path to your dataset\n",
    "data = load_data(file_path)"
   ]
  },
  {
   "cell_type": "code",
   "execution_count": 4,
   "metadata": {},
   "outputs": [],
   "source": [
    "# Define the function to clean the dataset\n",
    "def clean_data(data):\n",
    "    # Check for non-numeric values in L, A, B columns\n",
    "    for col in [\"L\", \"A\", \"B\"]:\n",
    "        non_numeric_values = data[pd.to_numeric(data[col], errors='coerce').isnull()][col]\n",
    "        if not non_numeric_values.empty:\n",
    "            print(f\"Non-numeric values found in {col}: {non_numeric_values.unique()}\")\n",
    "            data = data[pd.to_numeric(data[col], errors='coerce').notnull()]\n",
    "    \n",
    "    # Convert L, A, B columns to numeric\n",
    "    data[\"L\"] = pd.to_numeric(data[\"L\"], errors='coerce')\n",
    "    data[\"A\"] = pd.to_numeric(data[\"A\"], errors='coerce')\n",
    "    data[\"B\"] = pd.to_numeric(data[\"B\"], errors='coerce')\n",
    "    \n",
    "    # Drop rows with NaN values in L, A, B columns\n",
    "    data = data.dropna(subset=[\"L\", \"A\", \"B\"])\n",
    "    \n",
    "    return data\n",
    "\n",
    "# Clean the dataset\n",
    "data = clean_data(data)"
   ]
  },
  {
   "cell_type": "code",
   "execution_count": 5,
   "metadata": {},
   "outputs": [],
   "source": [
    "# Define the function to preprocess the dataset\n",
    "def preprocess_data(data):\n",
    "    # Extract input features (LAB values)\n",
    "    X = data[[\"L\", \"A\", \"B\"]].values.astype(np.float32)\n",
    "    \n",
    "    # Normalize L, A, B channels\n",
    "    X[:, 0] /= 100.0  # Normalize L channel: [0, 100] → [0, 1]\n",
    "    X[:, 1] = (X[:, 1] + 128) / 255.0  # Normalize A channel: [-128, 127] → [0, 1]\n",
    "    X[:, 2] = (X[:, 2] + 128) / 255.0  # Normalize B channel: [-128, 127] → [0, 1]\n",
    "    \n",
    "    # Extract target labels (Hue, Value, Chroma)\n",
    "    y_hue = pd.get_dummies(data[\"Hue\"]).values.astype(np.float32)  # One-hot encode Hue\n",
    "    y_value = data[\"Value\"].values.astype(np.float32).reshape(-1, 1)\n",
    "    y_chroma = data[\"Chroma\"].values.astype(np.float32).reshape(-1, 1)\n",
    "    \n",
    "    return X, y_hue, y_value, y_chroma\n",
    "\n",
    "# Preprocess the dataset\n",
    "X, y_hue, y_value, y_chroma = preprocess_data(data)\n",
    "\n",
    "# Split into training and validation sets\n",
    "split_idx = int(len(X) * 0.8)\n",
    "X_train, X_val = X[:split_idx], X[split_idx:]\n",
    "y_hue_train, y_hue_val = y_hue[:split_idx], y_hue[split_idx:]\n",
    "y_value_train, y_value_val = y_value[:split_idx], y_value[split_idx:]\n",
    "y_chroma_train, y_chroma_val = y_chroma[:split_idx], y_chroma[split_idx:]"
   ]
  },
  {
   "cell_type": "code",
   "execution_count": 6,
   "metadata": {},
   "outputs": [
    {
     "name": "stderr",
     "output_type": "stream",
     "text": [
      "I0000 00:00:1742782486.637106   94153 gpu_device.cc:2019] Created device /job:localhost/replica:0/task:0/device:GPU:0 with 3053 MB memory:  -> device: 0, name: NVIDIA GeForce RTX 4050 Laptop GPU, pci bus id: 0000:01:00.0, compute capability: 8.9\n"
     ]
    },
    {
     "data": {
      "text/html": [
       "<pre style=\"white-space:pre;overflow-x:auto;line-height:normal;font-family:Menlo,'DejaVu Sans Mono',consolas,'Courier New',monospace\"><span style=\"font-weight: bold\">Model: \"functional\"</span>\n",
       "</pre>\n"
      ],
      "text/plain": [
       "\u001b[1mModel: \"functional\"\u001b[0m\n"
      ]
     },
     "metadata": {},
     "output_type": "display_data"
    },
    {
     "data": {
      "text/html": [
       "<pre style=\"white-space:pre;overflow-x:auto;line-height:normal;font-family:Menlo,'DejaVu Sans Mono',consolas,'Courier New',monospace\">┏━━━━━━━━━━━━━━━━━━━━━┳━━━━━━━━━━━━━━━━━━━┳━━━━━━━━━━━━┳━━━━━━━━━━━━━━━━━━━┓\n",
       "┃<span style=\"font-weight: bold\"> Layer (type)        </span>┃<span style=\"font-weight: bold\"> Output Shape      </span>┃<span style=\"font-weight: bold\">    Param # </span>┃<span style=\"font-weight: bold\"> Connected to      </span>┃\n",
       "┡━━━━━━━━━━━━━━━━━━━━━╇━━━━━━━━━━━━━━━━━━━╇━━━━━━━━━━━━╇━━━━━━━━━━━━━━━━━━━┩\n",
       "│ input_layer         │ (<span style=\"color: #00d7ff; text-decoration-color: #00d7ff\">None</span>, <span style=\"color: #00af00; text-decoration-color: #00af00\">3</span>)         │          <span style=\"color: #00af00; text-decoration-color: #00af00\">0</span> │ -                 │\n",
       "│ (<span style=\"color: #0087ff; text-decoration-color: #0087ff\">InputLayer</span>)        │                   │            │                   │\n",
       "├─────────────────────┼───────────────────┼────────────┼───────────────────┤\n",
       "│ dense (<span style=\"color: #0087ff; text-decoration-color: #0087ff\">Dense</span>)       │ (<span style=\"color: #00d7ff; text-decoration-color: #00d7ff\">None</span>, <span style=\"color: #00af00; text-decoration-color: #00af00\">128</span>)       │        <span style=\"color: #00af00; text-decoration-color: #00af00\">512</span> │ input_layer[<span style=\"color: #00af00; text-decoration-color: #00af00\">0</span>][<span style=\"color: #00af00; text-decoration-color: #00af00\">0</span>] │\n",
       "├─────────────────────┼───────────────────┼────────────┼───────────────────┤\n",
       "│ batch_normalization │ (<span style=\"color: #00d7ff; text-decoration-color: #00d7ff\">None</span>, <span style=\"color: #00af00; text-decoration-color: #00af00\">128</span>)       │        <span style=\"color: #00af00; text-decoration-color: #00af00\">512</span> │ dense[<span style=\"color: #00af00; text-decoration-color: #00af00\">0</span>][<span style=\"color: #00af00; text-decoration-color: #00af00\">0</span>]       │\n",
       "│ (<span style=\"color: #0087ff; text-decoration-color: #0087ff\">BatchNormalizatio…</span> │                   │            │                   │\n",
       "├─────────────────────┼───────────────────┼────────────┼───────────────────┤\n",
       "│ dropout (<span style=\"color: #0087ff; text-decoration-color: #0087ff\">Dropout</span>)   │ (<span style=\"color: #00d7ff; text-decoration-color: #00d7ff\">None</span>, <span style=\"color: #00af00; text-decoration-color: #00af00\">128</span>)       │          <span style=\"color: #00af00; text-decoration-color: #00af00\">0</span> │ batch_normalizat… │\n",
       "├─────────────────────┼───────────────────┼────────────┼───────────────────┤\n",
       "│ dense_1 (<span style=\"color: #0087ff; text-decoration-color: #0087ff\">Dense</span>)     │ (<span style=\"color: #00d7ff; text-decoration-color: #00d7ff\">None</span>, <span style=\"color: #00af00; text-decoration-color: #00af00\">64</span>)        │      <span style=\"color: #00af00; text-decoration-color: #00af00\">8,256</span> │ dropout[<span style=\"color: #00af00; text-decoration-color: #00af00\">0</span>][<span style=\"color: #00af00; text-decoration-color: #00af00\">0</span>]     │\n",
       "├─────────────────────┼───────────────────┼────────────┼───────────────────┤\n",
       "│ batch_normalizatio… │ (<span style=\"color: #00d7ff; text-decoration-color: #00d7ff\">None</span>, <span style=\"color: #00af00; text-decoration-color: #00af00\">64</span>)        │        <span style=\"color: #00af00; text-decoration-color: #00af00\">256</span> │ dense_1[<span style=\"color: #00af00; text-decoration-color: #00af00\">0</span>][<span style=\"color: #00af00; text-decoration-color: #00af00\">0</span>]     │\n",
       "│ (<span style=\"color: #0087ff; text-decoration-color: #0087ff\">BatchNormalizatio…</span> │                   │            │                   │\n",
       "├─────────────────────┼───────────────────┼────────────┼───────────────────┤\n",
       "│ dropout_1 (<span style=\"color: #0087ff; text-decoration-color: #0087ff\">Dropout</span>) │ (<span style=\"color: #00d7ff; text-decoration-color: #00d7ff\">None</span>, <span style=\"color: #00af00; text-decoration-color: #00af00\">64</span>)        │          <span style=\"color: #00af00; text-decoration-color: #00af00\">0</span> │ batch_normalizat… │\n",
       "├─────────────────────┼───────────────────┼────────────┼───────────────────┤\n",
       "│ hue_output (<span style=\"color: #0087ff; text-decoration-color: #0087ff\">Dense</span>)  │ (<span style=\"color: #00d7ff; text-decoration-color: #00d7ff\">None</span>, <span style=\"color: #00af00; text-decoration-color: #00af00\">41</span>)        │      <span style=\"color: #00af00; text-decoration-color: #00af00\">2,665</span> │ dropout_1[<span style=\"color: #00af00; text-decoration-color: #00af00\">0</span>][<span style=\"color: #00af00; text-decoration-color: #00af00\">0</span>]   │\n",
       "├─────────────────────┼───────────────────┼────────────┼───────────────────┤\n",
       "│ value_output        │ (<span style=\"color: #00d7ff; text-decoration-color: #00d7ff\">None</span>, <span style=\"color: #00af00; text-decoration-color: #00af00\">1</span>)         │         <span style=\"color: #00af00; text-decoration-color: #00af00\">65</span> │ dropout_1[<span style=\"color: #00af00; text-decoration-color: #00af00\">0</span>][<span style=\"color: #00af00; text-decoration-color: #00af00\">0</span>]   │\n",
       "│ (<span style=\"color: #0087ff; text-decoration-color: #0087ff\">Dense</span>)             │                   │            │                   │\n",
       "├─────────────────────┼───────────────────┼────────────┼───────────────────┤\n",
       "│ chroma_output       │ (<span style=\"color: #00d7ff; text-decoration-color: #00d7ff\">None</span>, <span style=\"color: #00af00; text-decoration-color: #00af00\">1</span>)         │         <span style=\"color: #00af00; text-decoration-color: #00af00\">65</span> │ dropout_1[<span style=\"color: #00af00; text-decoration-color: #00af00\">0</span>][<span style=\"color: #00af00; text-decoration-color: #00af00\">0</span>]   │\n",
       "│ (<span style=\"color: #0087ff; text-decoration-color: #0087ff\">Dense</span>)             │                   │            │                   │\n",
       "└─────────────────────┴───────────────────┴────────────┴───────────────────┘\n",
       "</pre>\n"
      ],
      "text/plain": [
       "┏━━━━━━━━━━━━━━━━━━━━━┳━━━━━━━━━━━━━━━━━━━┳━━━━━━━━━━━━┳━━━━━━━━━━━━━━━━━━━┓\n",
       "┃\u001b[1m \u001b[0m\u001b[1mLayer (type)       \u001b[0m\u001b[1m \u001b[0m┃\u001b[1m \u001b[0m\u001b[1mOutput Shape     \u001b[0m\u001b[1m \u001b[0m┃\u001b[1m \u001b[0m\u001b[1m   Param #\u001b[0m\u001b[1m \u001b[0m┃\u001b[1m \u001b[0m\u001b[1mConnected to     \u001b[0m\u001b[1m \u001b[0m┃\n",
       "┡━━━━━━━━━━━━━━━━━━━━━╇━━━━━━━━━━━━━━━━━━━╇━━━━━━━━━━━━╇━━━━━━━━━━━━━━━━━━━┩\n",
       "│ input_layer         │ (\u001b[38;5;45mNone\u001b[0m, \u001b[38;5;34m3\u001b[0m)         │          \u001b[38;5;34m0\u001b[0m │ -                 │\n",
       "│ (\u001b[38;5;33mInputLayer\u001b[0m)        │                   │            │                   │\n",
       "├─────────────────────┼───────────────────┼────────────┼───────────────────┤\n",
       "│ dense (\u001b[38;5;33mDense\u001b[0m)       │ (\u001b[38;5;45mNone\u001b[0m, \u001b[38;5;34m128\u001b[0m)       │        \u001b[38;5;34m512\u001b[0m │ input_layer[\u001b[38;5;34m0\u001b[0m][\u001b[38;5;34m0\u001b[0m] │\n",
       "├─────────────────────┼───────────────────┼────────────┼───────────────────┤\n",
       "│ batch_normalization │ (\u001b[38;5;45mNone\u001b[0m, \u001b[38;5;34m128\u001b[0m)       │        \u001b[38;5;34m512\u001b[0m │ dense[\u001b[38;5;34m0\u001b[0m][\u001b[38;5;34m0\u001b[0m]       │\n",
       "│ (\u001b[38;5;33mBatchNormalizatio…\u001b[0m │                   │            │                   │\n",
       "├─────────────────────┼───────────────────┼────────────┼───────────────────┤\n",
       "│ dropout (\u001b[38;5;33mDropout\u001b[0m)   │ (\u001b[38;5;45mNone\u001b[0m, \u001b[38;5;34m128\u001b[0m)       │          \u001b[38;5;34m0\u001b[0m │ batch_normalizat… │\n",
       "├─────────────────────┼───────────────────┼────────────┼───────────────────┤\n",
       "│ dense_1 (\u001b[38;5;33mDense\u001b[0m)     │ (\u001b[38;5;45mNone\u001b[0m, \u001b[38;5;34m64\u001b[0m)        │      \u001b[38;5;34m8,256\u001b[0m │ dropout[\u001b[38;5;34m0\u001b[0m][\u001b[38;5;34m0\u001b[0m]     │\n",
       "├─────────────────────┼───────────────────┼────────────┼───────────────────┤\n",
       "│ batch_normalizatio… │ (\u001b[38;5;45mNone\u001b[0m, \u001b[38;5;34m64\u001b[0m)        │        \u001b[38;5;34m256\u001b[0m │ dense_1[\u001b[38;5;34m0\u001b[0m][\u001b[38;5;34m0\u001b[0m]     │\n",
       "│ (\u001b[38;5;33mBatchNormalizatio…\u001b[0m │                   │            │                   │\n",
       "├─────────────────────┼───────────────────┼────────────┼───────────────────┤\n",
       "│ dropout_1 (\u001b[38;5;33mDropout\u001b[0m) │ (\u001b[38;5;45mNone\u001b[0m, \u001b[38;5;34m64\u001b[0m)        │          \u001b[38;5;34m0\u001b[0m │ batch_normalizat… │\n",
       "├─────────────────────┼───────────────────┼────────────┼───────────────────┤\n",
       "│ hue_output (\u001b[38;5;33mDense\u001b[0m)  │ (\u001b[38;5;45mNone\u001b[0m, \u001b[38;5;34m41\u001b[0m)        │      \u001b[38;5;34m2,665\u001b[0m │ dropout_1[\u001b[38;5;34m0\u001b[0m][\u001b[38;5;34m0\u001b[0m]   │\n",
       "├─────────────────────┼───────────────────┼────────────┼───────────────────┤\n",
       "│ value_output        │ (\u001b[38;5;45mNone\u001b[0m, \u001b[38;5;34m1\u001b[0m)         │         \u001b[38;5;34m65\u001b[0m │ dropout_1[\u001b[38;5;34m0\u001b[0m][\u001b[38;5;34m0\u001b[0m]   │\n",
       "│ (\u001b[38;5;33mDense\u001b[0m)             │                   │            │                   │\n",
       "├─────────────────────┼───────────────────┼────────────┼───────────────────┤\n",
       "│ chroma_output       │ (\u001b[38;5;45mNone\u001b[0m, \u001b[38;5;34m1\u001b[0m)         │         \u001b[38;5;34m65\u001b[0m │ dropout_1[\u001b[38;5;34m0\u001b[0m][\u001b[38;5;34m0\u001b[0m]   │\n",
       "│ (\u001b[38;5;33mDense\u001b[0m)             │                   │            │                   │\n",
       "└─────────────────────┴───────────────────┴────────────┴───────────────────┘\n"
      ]
     },
     "metadata": {},
     "output_type": "display_data"
    },
    {
     "data": {
      "text/html": [
       "<pre style=\"white-space:pre;overflow-x:auto;line-height:normal;font-family:Menlo,'DejaVu Sans Mono',consolas,'Courier New',monospace\"><span style=\"font-weight: bold\"> Total params: </span><span style=\"color: #00af00; text-decoration-color: #00af00\">12,331</span> (48.17 KB)\n",
       "</pre>\n"
      ],
      "text/plain": [
       "\u001b[1m Total params: \u001b[0m\u001b[38;5;34m12,331\u001b[0m (48.17 KB)\n"
      ]
     },
     "metadata": {},
     "output_type": "display_data"
    },
    {
     "data": {
      "text/html": [
       "<pre style=\"white-space:pre;overflow-x:auto;line-height:normal;font-family:Menlo,'DejaVu Sans Mono',consolas,'Courier New',monospace\"><span style=\"font-weight: bold\"> Trainable params: </span><span style=\"color: #00af00; text-decoration-color: #00af00\">11,947</span> (46.67 KB)\n",
       "</pre>\n"
      ],
      "text/plain": [
       "\u001b[1m Trainable params: \u001b[0m\u001b[38;5;34m11,947\u001b[0m (46.67 KB)\n"
      ]
     },
     "metadata": {},
     "output_type": "display_data"
    },
    {
     "data": {
      "text/html": [
       "<pre style=\"white-space:pre;overflow-x:auto;line-height:normal;font-family:Menlo,'DejaVu Sans Mono',consolas,'Courier New',monospace\"><span style=\"font-weight: bold\"> Non-trainable params: </span><span style=\"color: #00af00; text-decoration-color: #00af00\">384</span> (1.50 KB)\n",
       "</pre>\n"
      ],
      "text/plain": [
       "\u001b[1m Non-trainable params: \u001b[0m\u001b[38;5;34m384\u001b[0m (1.50 KB)\n"
      ]
     },
     "metadata": {},
     "output_type": "display_data"
    }
   ],
   "source": [
    "# Define the function to build the model\n",
    "def build_model(input_shape, num_hues):\n",
    "    inputs = Input(shape=input_shape)\n",
    "    \n",
    "    x = Dense(128, activation='relu')(inputs)\n",
    "    x = BatchNormalization()(x)\n",
    "    x = Dropout(0.3)(x)\n",
    "    \n",
    "    x = Dense(64, activation='relu')(x)\n",
    "    x = BatchNormalization()(x)\n",
    "    x = Dropout(0.3)(x)\n",
    "    \n",
    "    hue_output = Dense(num_hues, activation='softmax', name=\"hue_output\")(x)\n",
    "    value_output = Dense(1, activation='linear', name=\"value_output\")(x)\n",
    "    chroma_output = Dense(1, activation='linear', name=\"chroma_output\")(x)\n",
    "    \n",
    "    return Model(inputs=inputs, outputs=[hue_output, value_output, chroma_output])\n",
    "\n",
    "# Build the model\n",
    "num_hues = y_hue.shape[1]  # Number of unique hues (one-hot encoded)\n",
    "input_shape = (3,)  # LAB channels\n",
    "model = build_model(input_shape, num_hues)\n",
    "\n",
    "# Compile the model\n",
    "model.compile(\n",
    "    optimizer='adam',\n",
    "    loss={\n",
    "        \"hue_output\": \"categorical_crossentropy\",\n",
    "        \"value_output\": \"mse\",\n",
    "        \"chroma_output\": \"mse\"\n",
    "    },\n",
    "    metrics={\n",
    "        \"hue_output\": \"accuracy\",\n",
    "        \"value_output\": \"mae\",\n",
    "        \"chroma_output\": \"mae\"\n",
    "    }\n",
    ")\n",
    "\n",
    "# Display the model summary\n",
    "model.summary()"
   ]
  },
  {
   "cell_type": "code",
   "execution_count": 11,
   "metadata": {},
   "outputs": [
    {
     "name": "stdout",
     "output_type": "stream",
     "text": [
      "Epoch 1/50\n"
     ]
    },
    {
     "name": "stdout",
     "output_type": "stream",
     "text": [
      "\u001b[1m262/262\u001b[0m \u001b[32m━━━━━━━━━━━━━━━━━━━━\u001b[0m\u001b[37m\u001b[0m \u001b[1m2s\u001b[0m 8ms/step - chroma_output_loss: 19.4840 - chroma_output_mae: 3.2930 - hue_output_accuracy: 0.2893 - hue_output_loss: 2.0061 - loss: 22.8151 - value_output_loss: 1.3250 - value_output_mae: 0.9053 - val_chroma_output_loss: 11.2896 - val_chroma_output_mae: 2.5147 - val_hue_output_accuracy: 0.0000e+00 - val_hue_output_loss: 14.1968 - val_loss: 25.8998 - val_value_output_loss: 0.3704 - val_value_output_mae: 0.4049\n",
      "Epoch 2/50\n",
      "\u001b[1m262/262\u001b[0m \u001b[32m━━━━━━━━━━━━━━━━━━━━\u001b[0m\u001b[37m\u001b[0m \u001b[1m2s\u001b[0m 8ms/step - chroma_output_loss: 18.9633 - chroma_output_mae: 3.2286 - hue_output_accuracy: 0.2801 - hue_output_loss: 1.9955 - loss: 22.2768 - value_output_loss: 1.3181 - value_output_mae: 0.8874 - val_chroma_output_loss: 10.3586 - val_chroma_output_mae: 2.2775 - val_hue_output_accuracy: 0.0000e+00 - val_hue_output_loss: 14.1183 - val_loss: 24.8205 - val_value_output_loss: 0.2935 - val_value_output_mae: 0.3338\n",
      "Epoch 3/50\n",
      "\u001b[1m262/262\u001b[0m \u001b[32m━━━━━━━━━━━━━━━━━━━━\u001b[0m\u001b[37m\u001b[0m \u001b[1m2s\u001b[0m 8ms/step - chroma_output_loss: 19.9560 - chroma_output_mae: 3.3068 - hue_output_accuracy: 0.2782 - hue_output_loss: 2.0011 - loss: 23.2935 - value_output_loss: 1.3369 - value_output_mae: 0.8986 - val_chroma_output_loss: 10.1676 - val_chroma_output_mae: 2.2678 - val_hue_output_accuracy: 0.0000e+00 - val_hue_output_loss: 14.0531 - val_loss: 24.6002 - val_value_output_loss: 0.3159 - val_value_output_mae: 0.3820\n",
      "Epoch 4/50\n",
      "\u001b[1m262/262\u001b[0m \u001b[32m━━━━━━━━━━━━━━━━━━━━\u001b[0m\u001b[37m\u001b[0m \u001b[1m2s\u001b[0m 9ms/step - chroma_output_loss: 18.8765 - chroma_output_mae: 3.2281 - hue_output_accuracy: 0.2764 - hue_output_loss: 1.9995 - loss: 22.1914 - value_output_loss: 1.3152 - value_output_mae: 0.8912 - val_chroma_output_loss: 10.2939 - val_chroma_output_mae: 2.2086 - val_hue_output_accuracy: 0.0000e+00 - val_hue_output_loss: 14.1598 - val_loss: 24.8417 - val_value_output_loss: 0.3153 - val_value_output_mae: 0.3670\n",
      "Epoch 5/50\n",
      "\u001b[1m262/262\u001b[0m \u001b[32m━━━━━━━━━━━━━━━━━━━━\u001b[0m\u001b[37m\u001b[0m \u001b[1m2s\u001b[0m 8ms/step - chroma_output_loss: 19.3731 - chroma_output_mae: 3.2527 - hue_output_accuracy: 0.2801 - hue_output_loss: 2.0254 - loss: 22.7180 - value_output_loss: 1.3206 - value_output_mae: 0.8972 - val_chroma_output_loss: 11.6778 - val_chroma_output_mae: 2.4758 - val_hue_output_accuracy: 0.0000e+00 - val_hue_output_loss: 14.2520 - val_loss: 26.4192 - val_value_output_loss: 0.4160 - val_value_output_mae: 0.4592\n",
      "Epoch 6/50\n",
      "\u001b[1m262/262\u001b[0m \u001b[32m━━━━━━━━━━━━━━━━━━━━\u001b[0m\u001b[37m\u001b[0m \u001b[1m4s\u001b[0m 15ms/step - chroma_output_loss: 19.5777 - chroma_output_mae: 3.3082 - hue_output_accuracy: 0.2760 - hue_output_loss: 1.9907 - loss: 22.8182 - value_output_loss: 1.2503 - value_output_mae: 0.8643 - val_chroma_output_loss: 9.7840 - val_chroma_output_mae: 2.1537 - val_hue_output_accuracy: 0.0000e+00 - val_hue_output_loss: 14.7966 - val_loss: 24.9839 - val_value_output_loss: 0.3481 - val_value_output_mae: 0.4085\n",
      "Epoch 7/50\n",
      "\u001b[1m262/262\u001b[0m \u001b[32m━━━━━━━━━━━━━━━━━━━━\u001b[0m\u001b[37m\u001b[0m \u001b[1m2s\u001b[0m 9ms/step - chroma_output_loss: 18.9830 - chroma_output_mae: 3.2626 - hue_output_accuracy: 0.2817 - hue_output_loss: 1.9956 - loss: 22.2698 - value_output_loss: 1.2925 - value_output_mae: 0.8870 - val_chroma_output_loss: 10.0745 - val_chroma_output_mae: 2.1936 - val_hue_output_accuracy: 0.0000e+00 - val_hue_output_loss: 14.6298 - val_loss: 25.2575 - val_value_output_loss: 0.4877 - val_value_output_mae: 0.5238\n",
      "Epoch 8/50\n",
      "\u001b[1m262/262\u001b[0m \u001b[32m━━━━━━━━━━━━━━━━━━━━\u001b[0m\u001b[37m\u001b[0m \u001b[1m2s\u001b[0m 9ms/step - chroma_output_loss: 17.7794 - chroma_output_mae: 3.1340 - hue_output_accuracy: 0.2784 - hue_output_loss: 1.9795 - loss: 21.0489 - value_output_loss: 1.2901 - value_output_mae: 0.8805 - val_chroma_output_loss: 9.8462 - val_chroma_output_mae: 2.2252 - val_hue_output_accuracy: 0.0000e+00 - val_hue_output_loss: 15.2243 - val_loss: 25.4338 - val_value_output_loss: 0.2938 - val_value_output_mae: 0.3499\n",
      "Epoch 9/50\n",
      "\u001b[1m262/262\u001b[0m \u001b[32m━━━━━━━━━━━━━━━━━━━━\u001b[0m\u001b[37m\u001b[0m \u001b[1m2s\u001b[0m 9ms/step - chroma_output_loss: 19.9154 - chroma_output_mae: 3.3166 - hue_output_accuracy: 0.2707 - hue_output_loss: 1.9856 - loss: 23.1838 - value_output_loss: 1.2828 - value_output_mae: 0.8840 - val_chroma_output_loss: 9.8061 - val_chroma_output_mae: 2.1694 - val_hue_output_accuracy: 0.0000e+00 - val_hue_output_loss: 15.4120 - val_loss: 25.5594 - val_value_output_loss: 0.2775 - val_value_output_mae: 0.3263\n",
      "Epoch 10/50\n",
      "\u001b[1m262/262\u001b[0m \u001b[32m━━━━━━━━━━━━━━━━━━━━\u001b[0m\u001b[37m\u001b[0m \u001b[1m2s\u001b[0m 9ms/step - chroma_output_loss: 18.4277 - chroma_output_mae: 3.1468 - hue_output_accuracy: 0.2678 - hue_output_loss: 2.0051 - loss: 21.6317 - value_output_loss: 1.1993 - value_output_mae: 0.8521 - val_chroma_output_loss: 9.3236 - val_chroma_output_mae: 2.1778 - val_hue_output_accuracy: 0.0000e+00 - val_hue_output_loss: 15.4800 - val_loss: 25.4468 - val_value_output_loss: 0.5953 - val_value_output_mae: 0.6057\n",
      "Epoch 11/50\n",
      "\u001b[1m262/262\u001b[0m \u001b[32m━━━━━━━━━━━━━━━━━━━━\u001b[0m\u001b[37m\u001b[0m \u001b[1m2s\u001b[0m 8ms/step - chroma_output_loss: 19.4990 - chroma_output_mae: 3.2696 - hue_output_accuracy: 0.2806 - hue_output_loss: 1.9805 - loss: 22.7237 - value_output_loss: 1.2439 - value_output_mae: 0.8735 - val_chroma_output_loss: 10.3850 - val_chroma_output_mae: 2.2707 - val_hue_output_accuracy: 0.0000e+00 - val_hue_output_loss: 15.1534 - val_loss: 26.0155 - val_value_output_loss: 0.4032 - val_value_output_mae: 0.4528\n",
      "Epoch 12/50\n",
      "\u001b[1m262/262\u001b[0m \u001b[32m━━━━━━━━━━━━━━━━━━━━\u001b[0m\u001b[37m\u001b[0m \u001b[1m2s\u001b[0m 8ms/step - chroma_output_loss: 17.8967 - chroma_output_mae: 3.1482 - hue_output_accuracy: 0.2726 - hue_output_loss: 1.9919 - loss: 21.0476 - value_output_loss: 1.1599 - value_output_mae: 0.8355 - val_chroma_output_loss: 9.9975 - val_chroma_output_mae: 2.2580 - val_hue_output_accuracy: 0.0000e+00 - val_hue_output_loss: 16.2626 - val_loss: 26.6380 - val_value_output_loss: 0.3175 - val_value_output_mae: 0.3705\n",
      "Epoch 13/50\n",
      "\u001b[1m262/262\u001b[0m \u001b[32m━━━━━━━━━━━━━━━━━━━━\u001b[0m\u001b[37m\u001b[0m \u001b[1m2s\u001b[0m 9ms/step - chroma_output_loss: 18.1696 - chroma_output_mae: 3.1780 - hue_output_accuracy: 0.2777 - hue_output_loss: 2.0088 - loss: 21.3839 - value_output_loss: 1.2052 - value_output_mae: 0.8572 - val_chroma_output_loss: 9.6907 - val_chroma_output_mae: 2.2258 - val_hue_output_accuracy: 0.0000e+00 - val_hue_output_loss: 16.5915 - val_loss: 26.6293 - val_value_output_loss: 0.2890 - val_value_output_mae: 0.3689\n",
      "Epoch 14/50\n",
      "\u001b[1m262/262\u001b[0m \u001b[32m━━━━━━━━━━━━━━━━━━━━\u001b[0m\u001b[37m\u001b[0m \u001b[1m2s\u001b[0m 8ms/step - chroma_output_loss: 19.2840 - chroma_output_mae: 3.2588 - hue_output_accuracy: 0.2837 - hue_output_loss: 1.9558 - loss: 22.4450 - value_output_loss: 1.2055 - value_output_mae: 0.8472 - val_chroma_output_loss: 9.5852 - val_chroma_output_mae: 2.1893 - val_hue_output_accuracy: 0.0000e+00 - val_hue_output_loss: 16.4689 - val_loss: 26.4591 - val_value_output_loss: 0.3196 - val_value_output_mae: 0.3800\n",
      "Epoch 15/50\n",
      "\u001b[1m262/262\u001b[0m \u001b[32m━━━━━━━━━━━━━━━━━━━━\u001b[0m\u001b[37m\u001b[0m \u001b[1m2s\u001b[0m 8ms/step - chroma_output_loss: 17.6728 - chroma_output_mae: 3.1149 - hue_output_accuracy: 0.2729 - hue_output_loss: 1.9575 - loss: 20.8474 - value_output_loss: 1.2171 - value_output_mae: 0.8563 - val_chroma_output_loss: 10.5678 - val_chroma_output_mae: 2.2444 - val_hue_output_accuracy: 0.0000e+00 - val_hue_output_loss: 16.7052 - val_loss: 27.6683 - val_value_output_loss: 0.3034 - val_value_output_mae: 0.3632\n",
      "Epoch 16/50\n",
      "\u001b[1m262/262\u001b[0m \u001b[32m━━━━━━━━━━━━━━━━━━━━\u001b[0m\u001b[37m\u001b[0m \u001b[1m2s\u001b[0m 9ms/step - chroma_output_loss: 18.8912 - chroma_output_mae: 3.2403 - hue_output_accuracy: 0.2812 - hue_output_loss: 1.9546 - loss: 21.9778 - value_output_loss: 1.1320 - value_output_mae: 0.8247 - val_chroma_output_loss: 9.5884 - val_chroma_output_mae: 2.2085 - val_hue_output_accuracy: 0.0000e+00 - val_hue_output_loss: 17.2549 - val_loss: 27.2284 - val_value_output_loss: 0.3111 - val_value_output_mae: 0.3753\n",
      "Epoch 17/50\n",
      "\u001b[1m262/262\u001b[0m \u001b[32m━━━━━━━━━━━━━━━━━━━━\u001b[0m\u001b[37m\u001b[0m \u001b[1m2s\u001b[0m 9ms/step - chroma_output_loss: 19.7189 - chroma_output_mae: 3.3080 - hue_output_accuracy: 0.2787 - hue_output_loss: 1.9613 - loss: 22.8833 - value_output_loss: 1.2037 - value_output_mae: 0.8581 - val_chroma_output_loss: 10.0233 - val_chroma_output_mae: 2.1588 - val_hue_output_accuracy: 0.0000e+00 - val_hue_output_loss: 17.0249 - val_loss: 27.4831 - val_value_output_loss: 0.3570 - val_value_output_mae: 0.4126\n",
      "Epoch 18/50\n",
      "\u001b[1m262/262\u001b[0m \u001b[32m━━━━━━━━━━━━━━━━━━━━\u001b[0m\u001b[37m\u001b[0m \u001b[1m2s\u001b[0m 9ms/step - chroma_output_loss: 18.6819 - chroma_output_mae: 3.2024 - hue_output_accuracy: 0.2965 - hue_output_loss: 1.9194 - loss: 21.8666 - value_output_loss: 1.2658 - value_output_mae: 0.8774 - val_chroma_output_loss: 9.5240 - val_chroma_output_mae: 2.1629 - val_hue_output_accuracy: 0.0000e+00 - val_hue_output_loss: 17.0964 - val_loss: 27.0246 - val_value_output_loss: 0.3365 - val_value_output_mae: 0.3812\n",
      "Epoch 19/50\n",
      "\u001b[1m262/262\u001b[0m \u001b[32m━━━━━━━━━━━━━━━━━━━━\u001b[0m\u001b[37m\u001b[0m \u001b[1m4s\u001b[0m 16ms/step - chroma_output_loss: 17.9029 - chroma_output_mae: 3.1299 - hue_output_accuracy: 0.2901 - hue_output_loss: 1.9294 - loss: 20.9752 - value_output_loss: 1.1428 - value_output_mae: 0.8276 - val_chroma_output_loss: 10.7030 - val_chroma_output_mae: 2.3265 - val_hue_output_accuracy: 0.0000e+00 - val_hue_output_loss: 18.0351 - val_loss: 29.1816 - val_value_output_loss: 0.3412 - val_value_output_mae: 0.3862\n",
      "Epoch 20/50\n",
      "\u001b[1m262/262\u001b[0m \u001b[32m━━━━━━━━━━━━━━━━━━━━\u001b[0m\u001b[37m\u001b[0m \u001b[1m2s\u001b[0m 9ms/step - chroma_output_loss: 19.0597 - chroma_output_mae: 3.2540 - hue_output_accuracy: 0.2705 - hue_output_loss: 1.9322 - loss: 22.1304 - value_output_loss: 1.1388 - value_output_mae: 0.8339 - val_chroma_output_loss: 9.0500 - val_chroma_output_mae: 2.1467 - val_hue_output_accuracy: 0.0000e+00 - val_hue_output_loss: 17.8326 - val_loss: 27.3645 - val_value_output_loss: 0.4019 - val_value_output_mae: 0.4470\n",
      "Epoch 21/50\n",
      "\u001b[1m262/262\u001b[0m \u001b[32m━━━━━━━━━━━━━━━━━━━━\u001b[0m\u001b[37m\u001b[0m \u001b[1m2s\u001b[0m 9ms/step - chroma_output_loss: 18.7612 - chroma_output_mae: 3.2174 - hue_output_accuracy: 0.2731 - hue_output_loss: 1.9838 - loss: 21.9728 - value_output_loss: 1.2280 - value_output_mae: 0.8645 - val_chroma_output_loss: 9.8306 - val_chroma_output_mae: 2.2013 - val_hue_output_accuracy: 0.0000e+00 - val_hue_output_loss: 18.3804 - val_loss: 28.6174 - val_value_output_loss: 0.3120 - val_value_output_mae: 0.3694\n",
      "Epoch 22/50\n",
      "\u001b[1m262/262\u001b[0m \u001b[32m━━━━━━━━━━━━━━━━━━━━\u001b[0m\u001b[37m\u001b[0m \u001b[1m2s\u001b[0m 7ms/step - chroma_output_loss: 18.8464 - chroma_output_mae: 3.2132 - hue_output_accuracy: 0.2766 - hue_output_loss: 1.9684 - loss: 21.9894 - value_output_loss: 1.1757 - value_output_mae: 0.8398 - val_chroma_output_loss: 10.0056 - val_chroma_output_mae: 2.3143 - val_hue_output_accuracy: 0.0000e+00 - val_hue_output_loss: 18.5141 - val_loss: 28.9699 - val_value_output_loss: 0.3719 - val_value_output_mae: 0.4121\n",
      "Epoch 23/50\n",
      "\u001b[1m262/262\u001b[0m \u001b[32m━━━━━━━━━━━━━━━━━━━━\u001b[0m\u001b[37m\u001b[0m \u001b[1m2s\u001b[0m 8ms/step - chroma_output_loss: 18.0756 - chroma_output_mae: 3.1248 - hue_output_accuracy: 0.2782 - hue_output_loss: 1.9394 - loss: 21.1633 - value_output_loss: 1.1484 - value_output_mae: 0.8358 - val_chroma_output_loss: 10.5095 - val_chroma_output_mae: 2.3449 - val_hue_output_accuracy: 0.0000e+00 - val_hue_output_loss: 19.1943 - val_loss: 30.0742 - val_value_output_loss: 0.2643 - val_value_output_mae: 0.3471\n",
      "Epoch 24/50\n",
      "\u001b[1m262/262\u001b[0m \u001b[32m━━━━━━━━━━━━━━━━━━━━\u001b[0m\u001b[37m\u001b[0m \u001b[1m2s\u001b[0m 8ms/step - chroma_output_loss: 17.9356 - chroma_output_mae: 3.1569 - hue_output_accuracy: 0.2849 - hue_output_loss: 1.9450 - loss: 21.0259 - value_output_loss: 1.1459 - value_output_mae: 0.8352 - val_chroma_output_loss: 10.8422 - val_chroma_output_mae: 2.1246 - val_hue_output_accuracy: 0.0000e+00 - val_hue_output_loss: 17.8934 - val_loss: 29.3387 - val_value_output_loss: 0.5007 - val_value_output_mae: 0.5373\n",
      "Epoch 25/50\n",
      "\u001b[1m262/262\u001b[0m \u001b[32m━━━━━━━━━━━━━━━━━━━━\u001b[0m\u001b[37m\u001b[0m \u001b[1m2s\u001b[0m 9ms/step - chroma_output_loss: 17.4142 - chroma_output_mae: 3.1093 - hue_output_accuracy: 0.2840 - hue_output_loss: 1.9465 - loss: 20.5794 - value_output_loss: 1.2196 - value_output_mae: 0.8630 - val_chroma_output_loss: 10.1443 - val_chroma_output_mae: 2.2363 - val_hue_output_accuracy: 0.0000e+00 - val_hue_output_loss: 19.1071 - val_loss: 29.6444 - val_value_output_loss: 0.3015 - val_value_output_mae: 0.3526\n",
      "Epoch 26/50\n",
      "\u001b[1m262/262\u001b[0m \u001b[32m━━━━━━━━━━━━━━━━━━━━\u001b[0m\u001b[37m\u001b[0m \u001b[1m2s\u001b[0m 9ms/step - chroma_output_loss: 17.9195 - chroma_output_mae: 3.1573 - hue_output_accuracy: 0.2835 - hue_output_loss: 1.9690 - loss: 21.0085 - value_output_loss: 1.1199 - value_output_mae: 0.8204 - val_chroma_output_loss: 9.0378 - val_chroma_output_mae: 2.0759 - val_hue_output_accuracy: 0.0000e+00 - val_hue_output_loss: 18.8213 - val_loss: 28.2315 - val_value_output_loss: 0.3015 - val_value_output_mae: 0.3662\n",
      "Epoch 27/50\n",
      "\u001b[1m262/262\u001b[0m \u001b[32m━━━━━━━━━━━━━━━━━━━━\u001b[0m\u001b[37m\u001b[0m \u001b[1m2s\u001b[0m 9ms/step - chroma_output_loss: 18.7806 - chroma_output_mae: 3.2341 - hue_output_accuracy: 0.2831 - hue_output_loss: 1.9676 - loss: 21.9103 - value_output_loss: 1.1626 - value_output_mae: 0.8357 - val_chroma_output_loss: 10.1544 - val_chroma_output_mae: 2.2782 - val_hue_output_accuracy: 0.0000e+00 - val_hue_output_loss: 19.5163 - val_loss: 30.0219 - val_value_output_loss: 0.2484 - val_value_output_mae: 0.3048\n",
      "Epoch 28/50\n",
      "\u001b[1m262/262\u001b[0m \u001b[32m━━━━━━━━━━━━━━━━━━━━\u001b[0m\u001b[37m\u001b[0m \u001b[1m2s\u001b[0m 9ms/step - chroma_output_loss: 16.8877 - chroma_output_mae: 3.0362 - hue_output_accuracy: 0.2819 - hue_output_loss: 1.9853 - loss: 20.0315 - value_output_loss: 1.1588 - value_output_mae: 0.8523 - val_chroma_output_loss: 9.4662 - val_chroma_output_mae: 2.0979 - val_hue_output_accuracy: 0.0000e+00 - val_hue_output_loss: 19.9444 - val_loss: 29.7685 - val_value_output_loss: 0.2671 - val_value_output_mae: 0.3211\n",
      "Epoch 29/50\n",
      "\u001b[1m262/262\u001b[0m \u001b[32m━━━━━━━━━━━━━━━━━━━━\u001b[0m\u001b[37m\u001b[0m \u001b[1m2s\u001b[0m 9ms/step - chroma_output_loss: 17.9823 - chroma_output_mae: 3.1191 - hue_output_accuracy: 0.3049 - hue_output_loss: 1.9168 - loss: 21.0242 - value_output_loss: 1.1256 - value_output_mae: 0.8246 - val_chroma_output_loss: 10.5446 - val_chroma_output_mae: 2.4259 - val_hue_output_accuracy: 0.0000e+00 - val_hue_output_loss: 20.6485 - val_loss: 31.5474 - val_value_output_loss: 0.2620 - val_value_output_mae: 0.3283\n",
      "Epoch 30/50\n",
      "\u001b[1m262/262\u001b[0m \u001b[32m━━━━━━━━━━━━━━━━━━━━\u001b[0m\u001b[37m\u001b[0m \u001b[1m2s\u001b[0m 9ms/step - chroma_output_loss: 18.2137 - chroma_output_mae: 3.1359 - hue_output_accuracy: 0.2862 - hue_output_loss: 1.8976 - loss: 21.1867 - value_output_loss: 1.0759 - value_output_mae: 0.8078 - val_chroma_output_loss: 8.9513 - val_chroma_output_mae: 2.0451 - val_hue_output_accuracy: 0.0000e+00 - val_hue_output_loss: 20.3710 - val_loss: 29.6731 - val_value_output_loss: 0.2750 - val_value_output_mae: 0.3319\n",
      "Epoch 31/50\n",
      "\u001b[1m262/262\u001b[0m \u001b[32m━━━━━━━━━━━━━━━━━━━━\u001b[0m\u001b[37m\u001b[0m \u001b[1m2s\u001b[0m 8ms/step - chroma_output_loss: 18.8135 - chroma_output_mae: 3.1943 - hue_output_accuracy: 0.2837 - hue_output_loss: 1.9367 - loss: 21.8741 - value_output_loss: 1.1235 - value_output_mae: 0.8216 - val_chroma_output_loss: 9.9707 - val_chroma_output_mae: 2.2581 - val_hue_output_accuracy: 0.0000e+00 - val_hue_output_loss: 20.7988 - val_loss: 31.2879 - val_value_output_loss: 0.4286 - val_value_output_mae: 0.4867\n",
      "Epoch 32/50\n",
      "\u001b[1m262/262\u001b[0m \u001b[32m━━━━━━━━━━━━━━━━━━━━\u001b[0m\u001b[37m\u001b[0m \u001b[1m4s\u001b[0m 15ms/step - chroma_output_loss: 19.3901 - chroma_output_mae: 3.2658 - hue_output_accuracy: 0.3062 - hue_output_loss: 1.8935 - loss: 22.4254 - value_output_loss: 1.1421 - value_output_mae: 0.8310 - val_chroma_output_loss: 9.1346 - val_chroma_output_mae: 2.0684 - val_hue_output_accuracy: 0.0000e+00 - val_hue_output_loss: 20.4286 - val_loss: 29.9143 - val_value_output_loss: 0.2617 - val_value_output_mae: 0.3275\n",
      "Epoch 33/50\n",
      "\u001b[1m262/262\u001b[0m \u001b[32m━━━━━━━━━━━━━━━━━━━━\u001b[0m\u001b[37m\u001b[0m \u001b[1m2s\u001b[0m 9ms/step - chroma_output_loss: 17.7471 - chroma_output_mae: 3.1095 - hue_output_accuracy: 0.2914 - hue_output_loss: 1.9206 - loss: 20.7882 - value_output_loss: 1.1253 - value_output_mae: 0.8323 - val_chroma_output_loss: 9.7318 - val_chroma_output_mae: 2.1716 - val_hue_output_accuracy: 0.0000e+00 - val_hue_output_loss: 21.6581 - val_loss: 31.7535 - val_value_output_loss: 0.2613 - val_value_output_mae: 0.3239\n",
      "Epoch 34/50\n",
      "\u001b[1m262/262\u001b[0m \u001b[32m━━━━━━━━━━━━━━━━━━━━\u001b[0m\u001b[37m\u001b[0m \u001b[1m2s\u001b[0m 8ms/step - chroma_output_loss: 19.5455 - chroma_output_mae: 3.2728 - hue_output_accuracy: 0.2942 - hue_output_loss: 1.8892 - loss: 22.4810 - value_output_loss: 1.0466 - value_output_mae: 0.7936 - val_chroma_output_loss: 10.0461 - val_chroma_output_mae: 2.2459 - val_hue_output_accuracy: 0.0000e+00 - val_hue_output_loss: 21.2688 - val_loss: 31.6544 - val_value_output_loss: 0.2480 - val_value_output_mae: 0.3093\n",
      "Epoch 35/50\n",
      "\u001b[1m262/262\u001b[0m \u001b[32m━━━━━━━━━━━━━━━━━━━━\u001b[0m\u001b[37m\u001b[0m \u001b[1m2s\u001b[0m 8ms/step - chroma_output_loss: 17.8901 - chroma_output_mae: 3.1042 - hue_output_accuracy: 0.2862 - hue_output_loss: 1.9293 - loss: 20.8875 - value_output_loss: 1.0683 - value_output_mae: 0.8008 - val_chroma_output_loss: 9.9609 - val_chroma_output_mae: 2.1779 - val_hue_output_accuracy: 0.0000e+00 - val_hue_output_loss: 21.7058 - val_loss: 32.0161 - val_value_output_loss: 0.2398 - val_value_output_mae: 0.3068\n",
      "Epoch 36/50\n",
      "\u001b[1m262/262\u001b[0m \u001b[32m━━━━━━━━━━━━━━━━━━━━\u001b[0m\u001b[37m\u001b[0m \u001b[1m2s\u001b[0m 8ms/step - chroma_output_loss: 18.0471 - chroma_output_mae: 3.1158 - hue_output_accuracy: 0.2869 - hue_output_loss: 1.9072 - loss: 21.0532 - value_output_loss: 1.0986 - value_output_mae: 0.8132 - val_chroma_output_loss: 9.5691 - val_chroma_output_mae: 2.2339 - val_hue_output_accuracy: 0.0000e+00 - val_hue_output_loss: 22.3220 - val_loss: 32.2579 - val_value_output_loss: 0.2601 - val_value_output_mae: 0.3223\n",
      "Epoch 37/50\n",
      "\u001b[1m262/262\u001b[0m \u001b[32m━━━━━━━━━━━━━━━━━━━━\u001b[0m\u001b[37m\u001b[0m \u001b[1m2s\u001b[0m 9ms/step - chroma_output_loss: 18.0503 - chroma_output_mae: 3.1129 - hue_output_accuracy: 0.2854 - hue_output_loss: 1.9002 - loss: 21.0564 - value_output_loss: 1.1067 - value_output_mae: 0.8199 - val_chroma_output_loss: 9.3521 - val_chroma_output_mae: 2.2008 - val_hue_output_accuracy: 0.0000e+00 - val_hue_output_loss: 21.7920 - val_loss: 31.5986 - val_value_output_loss: 0.3448 - val_value_output_mae: 0.4020\n",
      "Epoch 38/50\n",
      "\u001b[1m262/262\u001b[0m \u001b[32m━━━━━━━━━━━━━━━━━━━━\u001b[0m\u001b[37m\u001b[0m \u001b[1m2s\u001b[0m 8ms/step - chroma_output_loss: 18.6584 - chroma_output_mae: 3.1698 - hue_output_accuracy: 0.2924 - hue_output_loss: 1.9195 - loss: 21.6533 - value_output_loss: 1.0757 - value_output_mae: 0.8084 - val_chroma_output_loss: 10.5192 - val_chroma_output_mae: 2.2799 - val_hue_output_accuracy: 0.0000e+00 - val_hue_output_loss: 21.8873 - val_loss: 32.7689 - val_value_output_loss: 0.2422 - val_value_output_mae: 0.2995\n",
      "Epoch 39/50\n",
      "\u001b[1m262/262\u001b[0m \u001b[32m━━━━━━━━━━━━━━━━━━━━\u001b[0m\u001b[37m\u001b[0m \u001b[1m2s\u001b[0m 9ms/step - chroma_output_loss: 17.5942 - chroma_output_mae: 3.1246 - hue_output_accuracy: 0.2937 - hue_output_loss: 1.8936 - loss: 20.5399 - value_output_loss: 1.0521 - value_output_mae: 0.8100 - val_chroma_output_loss: 9.3931 - val_chroma_output_mae: 2.1157 - val_hue_output_accuracy: 0.0000e+00 - val_hue_output_loss: 21.8693 - val_loss: 31.6934 - val_value_output_loss: 0.3432 - val_value_output_mae: 0.4082\n",
      "Epoch 40/50\n",
      "\u001b[1m262/262\u001b[0m \u001b[32m━━━━━━━━━━━━━━━━━━━━\u001b[0m\u001b[37m\u001b[0m \u001b[1m2s\u001b[0m 9ms/step - chroma_output_loss: 17.3126 - chroma_output_mae: 3.0870 - hue_output_accuracy: 0.2980 - hue_output_loss: 1.9223 - loss: 20.2876 - value_output_loss: 1.0524 - value_output_mae: 0.7989 - val_chroma_output_loss: 8.9691 - val_chroma_output_mae: 2.0865 - val_hue_output_accuracy: 0.0000e+00 - val_hue_output_loss: 22.7024 - val_loss: 32.0408 - val_value_output_loss: 0.2721 - val_value_output_mae: 0.3320\n",
      "Epoch 41/50\n",
      "\u001b[1m262/262\u001b[0m \u001b[32m━━━━━━━━━━━━━━━━━━━━\u001b[0m\u001b[37m\u001b[0m \u001b[1m2s\u001b[0m 9ms/step - chroma_output_loss: 18.0194 - chroma_output_mae: 3.1294 - hue_output_accuracy: 0.2807 - hue_output_loss: 1.9107 - loss: 20.9733 - value_output_loss: 1.0432 - value_output_mae: 0.7991 - val_chroma_output_loss: 9.3353 - val_chroma_output_mae: 2.0595 - val_hue_output_accuracy: 0.0000e+00 - val_hue_output_loss: 22.1252 - val_loss: 31.9358 - val_value_output_loss: 0.3735 - val_value_output_mae: 0.4375\n",
      "Epoch 42/50\n",
      "\u001b[1m262/262\u001b[0m \u001b[32m━━━━━━━━━━━━━━━━━━━━\u001b[0m\u001b[37m\u001b[0m \u001b[1m2s\u001b[0m 9ms/step - chroma_output_loss: 17.7723 - chroma_output_mae: 3.1380 - hue_output_accuracy: 0.2849 - hue_output_loss: 1.9354 - loss: 20.7326 - value_output_loss: 1.0254 - value_output_mae: 0.7883 - val_chroma_output_loss: 9.7536 - val_chroma_output_mae: 2.1830 - val_hue_output_accuracy: 0.0000e+00 - val_hue_output_loss: 22.9614 - val_loss: 33.0827 - val_value_output_loss: 0.2466 - val_value_output_mae: 0.3321\n",
      "Epoch 43/50\n",
      "\u001b[1m262/262\u001b[0m \u001b[32m━━━━━━━━━━━━━━━━━━━━\u001b[0m\u001b[37m\u001b[0m \u001b[1m2s\u001b[0m 9ms/step - chroma_output_loss: 18.0097 - chroma_output_mae: 3.1508 - hue_output_accuracy: 0.2924 - hue_output_loss: 1.8790 - loss: 20.9860 - value_output_loss: 1.0982 - value_output_mae: 0.8189 - val_chroma_output_loss: 9.1419 - val_chroma_output_mae: 2.0459 - val_hue_output_accuracy: 0.0000e+00 - val_hue_output_loss: 22.5744 - val_loss: 32.0786 - val_value_output_loss: 0.2555 - val_value_output_mae: 0.3169\n",
      "Epoch 44/50\n",
      "\u001b[1m262/262\u001b[0m \u001b[32m━━━━━━━━━━━━━━━━━━━━\u001b[0m\u001b[37m\u001b[0m \u001b[1m2s\u001b[0m 9ms/step - chroma_output_loss: 18.6394 - chroma_output_mae: 3.1729 - hue_output_accuracy: 0.2893 - hue_output_loss: 1.9250 - loss: 21.5761 - value_output_loss: 1.0113 - value_output_mae: 0.7838 - val_chroma_output_loss: 10.2128 - val_chroma_output_mae: 2.2769 - val_hue_output_accuracy: 0.0000e+00 - val_hue_output_loss: 22.7657 - val_loss: 33.4499 - val_value_output_loss: 0.3592 - val_value_output_mae: 0.4215\n",
      "Epoch 45/50\n",
      "\u001b[1m262/262\u001b[0m \u001b[32m━━━━━━━━━━━━━━━━━━━━\u001b[0m\u001b[37m\u001b[0m \u001b[1m4s\u001b[0m 16ms/step - chroma_output_loss: 18.2170 - chroma_output_mae: 3.1375 - hue_output_accuracy: 0.2844 - hue_output_loss: 1.8924 - loss: 21.1915 - value_output_loss: 1.0823 - value_output_mae: 0.8095 - val_chroma_output_loss: 10.6608 - val_chroma_output_mae: 2.4536 - val_hue_output_accuracy: 0.0000e+00 - val_hue_output_loss: 23.4985 - val_loss: 34.5310 - val_value_output_loss: 0.2534 - val_value_output_mae: 0.3123\n",
      "Epoch 46/50\n",
      "\u001b[1m262/262\u001b[0m \u001b[32m━━━━━━━━━━━━━━━━━━━━\u001b[0m\u001b[37m\u001b[0m \u001b[1m3s\u001b[0m 9ms/step - chroma_output_loss: 18.8026 - chroma_output_mae: 3.1761 - hue_output_accuracy: 0.2995 - hue_output_loss: 1.8781 - loss: 21.7661 - value_output_loss: 1.0856 - value_output_mae: 0.8133 - val_chroma_output_loss: 10.1552 - val_chroma_output_mae: 2.2395 - val_hue_output_accuracy: 0.0000e+00 - val_hue_output_loss: 22.7056 - val_loss: 33.2317 - val_value_output_loss: 0.2624 - val_value_output_mae: 0.3221\n",
      "Epoch 47/50\n",
      "\u001b[1m262/262\u001b[0m \u001b[32m━━━━━━━━━━━━━━━━━━━━\u001b[0m\u001b[37m\u001b[0m \u001b[1m2s\u001b[0m 9ms/step - chroma_output_loss: 17.8461 - chroma_output_mae: 3.1182 - hue_output_accuracy: 0.2916 - hue_output_loss: 1.9175 - loss: 20.8287 - value_output_loss: 1.0648 - value_output_mae: 0.8055 - val_chroma_output_loss: 10.9065 - val_chroma_output_mae: 2.1540 - val_hue_output_accuracy: 0.0000e+00 - val_hue_output_loss: 22.6853 - val_loss: 33.9678 - val_value_output_loss: 0.2399 - val_value_output_mae: 0.3385\n",
      "Epoch 48/50\n",
      "\u001b[1m262/262\u001b[0m \u001b[32m━━━━━━━━━━━━━━━━━━━━\u001b[0m\u001b[37m\u001b[0m \u001b[1m2s\u001b[0m 9ms/step - chroma_output_loss: 18.0601 - chroma_output_mae: 3.1512 - hue_output_accuracy: 0.2940 - hue_output_loss: 1.8846 - loss: 20.9407 - value_output_loss: 0.9966 - value_output_mae: 0.7773 - val_chroma_output_loss: 9.4115 - val_chroma_output_mae: 2.1033 - val_hue_output_accuracy: 0.0000e+00 - val_hue_output_loss: 22.0174 - val_loss: 32.1149 - val_value_output_loss: 0.5957 - val_value_output_mae: 0.6079\n",
      "Epoch 49/50\n",
      "\u001b[1m262/262\u001b[0m \u001b[32m━━━━━━━━━━━━━━━━━━━━\u001b[0m\u001b[37m\u001b[0m \u001b[1m2s\u001b[0m 9ms/step - chroma_output_loss: 17.0569 - chroma_output_mae: 3.0666 - hue_output_accuracy: 0.3021 - hue_output_loss: 1.8665 - loss: 19.9115 - value_output_loss: 0.9890 - value_output_mae: 0.7733 - val_chroma_output_loss: 9.1866 - val_chroma_output_mae: 2.1093 - val_hue_output_accuracy: 0.0000e+00 - val_hue_output_loss: 23.7082 - val_loss: 33.2660 - val_value_output_loss: 0.2537 - val_value_output_mae: 0.3105\n",
      "Epoch 50/50\n",
      "\u001b[1m262/262\u001b[0m \u001b[32m━━━━━━━━━━━━━━━━━━━━\u001b[0m\u001b[37m\u001b[0m \u001b[1m2s\u001b[0m 9ms/step - chroma_output_loss: 17.6443 - chroma_output_mae: 3.1387 - hue_output_accuracy: 0.2791 - hue_output_loss: 1.9087 - loss: 20.5390 - value_output_loss: 0.9858 - value_output_mae: 0.7761 - val_chroma_output_loss: 10.4446 - val_chroma_output_mae: 2.4359 - val_hue_output_accuracy: 0.0000e+00 - val_hue_output_loss: 24.3754 - val_loss: 35.2442 - val_value_output_loss: 0.3209 - val_value_output_mae: 0.3803\n"
     ]
    }
   ],
   "source": [
    "# Train the model\n",
    "history = model.fit(\n",
    "    X_train,\n",
    "    {\"hue_output\": y_hue_train, \"value_output\": y_value_train, \"chroma_output\": y_chroma_train},\n",
    "    validation_data=(X_val, {\"hue_output\": y_hue_val, \"value_output\": y_value_val, \"chroma_output\": y_chroma_val}),\n",
    "    epochs=50,\n",
    "    batch_size=32\n",
    ")"
   ]
  },
  {
   "cell_type": "code",
   "execution_count": 12,
   "metadata": {},
   "outputs": [
    {
     "name": "stdout",
     "output_type": "stream",
     "text": [
      "\u001b[1m66/66\u001b[0m \u001b[32m━━━━━━━━━━━━━━━━━━━━\u001b[0m\u001b[37m\u001b[0m \u001b[1m0s\u001b[0m 2ms/step\n",
      "Hue Accuracy: 0.00%\n",
      "Value MAE: 0.3803\n",
      "Chroma MAE: 2.4359\n"
     ]
    }
   ],
   "source": [
    "# Evaluate the model on the validation set\n",
    "val_predictions = model.predict(X_val)\n",
    "\n",
    "# Extract predictions\n",
    "pred_hue = np.argmax(val_predictions[0], axis=1)  # Predicted class for Hue\n",
    "pred_value = val_predictions[1].flatten()         # Predicted Value\n",
    "pred_chroma = val_predictions[2].flatten()        # Predicted Chroma\n",
    "\n",
    "# Compute metrics\n",
    "hue_accuracy = accuracy_score(np.argmax(y_hue_val, axis=1), pred_hue)\n",
    "value_mae = mean_absolute_error(y_value_val, pred_value)\n",
    "chroma_mae = mean_absolute_error(y_chroma_val, pred_chroma)\n",
    "\n",
    "print(f\"Hue Accuracy: {hue_accuracy * 100:.2f}%\")\n",
    "print(f\"Value MAE: {value_mae:.4f}\")\n",
    "print(f\"Chroma MAE: {chroma_mae:.4f}\")"
   ]
  },
  {
   "cell_type": "code",
   "execution_count": null,
   "metadata": {},
   "outputs": [],
   "source": [
    "# Save the trained model\n",
    "model.save(\"soil_classifier.h5\")\n",
    "print(\"Model saved as 'soil_classifier.h5'\")"
   ]
  },
  {
   "cell_type": "code",
   "execution_count": 9,
   "metadata": {},
   "outputs": [
    {
     "data": {
      "image/png": "[encoded data removed]",
      "text/plain": [
       "<Figure size 1200x500 with 2 Axes>"
      ]
     },
     "metadata": {},
     "output_type": "display_data"
    }
   ],
   "source": [
    "import matplotlib.pyplot as plt\n",
    "\n",
    "# Plot training & validation accuracy values\n",
    "plt.figure(figsize=(12, 5))\n",
    "\n",
    "plt.subplot(1, 2, 1)\n",
    "plt.plot(history.history['hue_output_accuracy'], label='Train Hue Accuracy')\n",
    "plt.plot(history.history['val_hue_output_accuracy'], label='Validation Hue Accuracy')\n",
    "plt.title('Hue Accuracy')\n",
    "plt.xlabel('Epoch')\n",
    "plt.ylabel('Accuracy')\n",
    "plt.legend()\n",
    "\n",
    "# Plot training & validation loss values\n",
    "plt.subplot(1, 2, 2)\n",
    "plt.plot(history.history['loss'], label='Train Loss')\n",
    "plt.plot(history.history['val_loss'], label='Validation Loss')\n",
    "plt.title('Model Loss')\n",
    "plt.xlabel('Epoch')\n",
    "plt.ylabel('Loss')\n",
    "plt.legend()\n",
    "\n",
    "plt.show()"
   ]
  }
 ],
 "metadata": {
  "kernelspec": {
   "display_name": "base",
   "language": "python",
   "name": "python3"
  },
  "language_info": {
   "codemirror_mode": {
    "name": "ipython",
    "version": 3
   },
   "file_extension": ".py",
   "mimetype": "text/x-python",
   "name": "python",
   "nbconvert_exporter": "python",
   "pygments_lexer": "ipython3",
   "version": "3.12.8"
  }
 },
 "nbformat": 4,
 "nbformat_minor": 2
}
