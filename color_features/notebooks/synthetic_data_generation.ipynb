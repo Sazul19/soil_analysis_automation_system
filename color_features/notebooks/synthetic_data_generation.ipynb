{
 "cells": [
  {
   "cell_type": "code",
   "execution_count": 1,
   "metadata": {},
   "outputs": [
    {
     "name": "stdout",
     "output_type": "stream",
     "text": [
      "Collecting colormath\n",
      "  Downloading colormath-3.0.0.tar.gz (39 kB)\n",
      "  Preparing metadata (setup.py) ... \u001b[?25ldone\n",
      "\u001b[?25hRequirement already satisfied: numpy in /home/sala/miniconda3/lib/python3.12/site-packages (1.26.0)\n",
      "Requirement already satisfied: pillow in /home/sala/miniconda3/lib/python3.12/site-packages (11.1.0)\n",
      "Requirement already satisfied: pandas in /home/sala/miniconda3/lib/python3.12/site-packages (2.0.3)\n",
      "Requirement already satisfied: networkx>=2.0 in /home/sala/miniconda3/lib/python3.12/site-packages (from colormath) (3.4.2)\n",
      "Requirement already satisfied: python-dateutil>=2.8.2 in /home/sala/miniconda3/lib/python3.12/site-packages (from pandas) (2.9.0.post0)\n",
      "Requirement already satisfied: pytz>=2020.1 in /home/sala/miniconda3/lib/python3.12/site-packages (from pandas) (2024.1)\n",
      "Requirement already satisfied: tzdata>=2022.1 in /home/sala/miniconda3/lib/python3.12/site-packages (from pandas) (2025.1)\n",
      "Requirement already satisfied: six>=1.5 in /home/sala/miniconda3/lib/python3.12/site-packages (from python-dateutil>=2.8.2->pandas) (1.16.0)\n",
      "Building wheels for collected packages: colormath\n",
      "  Building wheel for colormath (setup.py) ... \u001b[?25ldone\n",
      "\u001b[?25h  Created wheel for colormath: filename=colormath-3.0.0-py3-none-any.whl size=39474 sha256=1c5c01ca1ceca51fc2dd360591e8961915686c3dd3c145943a4c7381e1706d1c\n",
      "  Stored in directory: /home/sala/.cache/pip/wheels/9a/32/6a/605739a172d8112031c9875d744aef91709f00de9b3bbb9274\n",
      "Successfully built colormath\n",
      "Installing collected packages: colormath\n",
      "Successfully installed colormath-3.0.0\n",
      "Note: you may need to restart the kernel to use updated packages.\n"
     ]
    }
   ],
   "source": [
    "pip install colormath numpy pillow pandas"
   ]
  },
  {
   "cell_type": "code",
   "execution_count": 1,
   "metadata": {},
   "outputs": [],
   "source": [
    "import os\n",
    "import numpy as np\n",
    "import pandas as pd\n",
    "from PIL import Image\n",
    "import matplotlib.pyplot as plt"
   ]
  },
  {
   "cell_type": "code",
   "execution_count": 2,
   "metadata": {},
   "outputs": [],
   "source": [
    "\n",
    "\n",
    "\n",
    "def load_munsell_data(file_path):\n",
    "    \"\"\"\n",
    "    Load Munsell Renotation Data from a CSV file.\n",
    "    \"\"\"\n",
    "    munsell_data = pd.read_csv(file_path)\n",
    "    print(\"Loaded Munsell Data:\")\n",
    "    print(munsell_data.head())\n",
    "    return munsell_data\n"
   ]
  },
  {
   "cell_type": "code",
   "execution_count": null,
   "metadata": {},
   "outputs": [],
   "source": [
    "\n",
    "def generate_synthetic_patch(rgb, size=(100, 100), add_noise=False, noise_level=0.1):\n",
    "    \"\"\"\n",
    "    Generate a synthetic soil patch from RGB values.\n",
    "    \n",
    "    Parameters:\n",
    "        rgb (tuple): RGB values (r, g, b) in the range [0, 1].\n",
    "        size (tuple): Size of the image patch (width, height).\n",
    "        add_noise (bool): Whether to add random noise to the patch.\n",
    "        noise_level (float): Level of noise to add (range 0-1).\n",
    "    \n",
    "    Returns:\n",
    "        PIL.Image: Synthetic soil patch image.\n",
    "    \"\"\"\n",
    "    # Ensure RGB values are in the range [0, 1]\n",
    "    rgb = tuple(min(max(c, 0), 1) for c in rgb)\n",
    "    \n",
    "    # Create an image patch\n",
    "    patch = np.ones((size[0], size[1], 3), dtype=np.uint8)\n",
    "    patch[:, :, 0] = int(rgb[0] * 255)  # Red channel\n",
    "    patch[:, :, 1] = int(rgb[1] * 255)  # Green channel\n",
    "    patch[:, :, 2] = int(rgb[2] * 255)  # Blue channel\n",
    "    \n",
    "    # Add random noise if enabled\n",
    "    if add_noise:\n",
    "        noise = np.random.normal(0, noise_level * 255, patch.shape).astype(np.int16)\n",
    "        patch = np.clip(patch + noise, 0, 255).astype(np.uint8)\n",
    "    \n",
    "    return Image.fromarray(patch)"
   ]
  },
  {
   "cell_type": "code",
   "execution_count": null,
   "metadata": {},
   "outputs": [],
   "source": []
  },
  {
   "cell_type": "code",
   "execution_count": 11,
   "metadata": {},
   "outputs": [],
   "source": [
    "\n",
    "def visualize_synthetic_images(output_dir, num_images=6):\n",
    "    \"\"\"\n",
    "    Visualize a few synthetic images.\n",
    "    \n",
    "    Parameters:\n",
    "        output_dir (str): Directory containing the synthetic images.\n",
    "        num_images (int): Number of images to display.\n",
    "    \"\"\"\n",
    "    fig, axes = plt.subplots(2, 3, figsize=(10, 6))\n",
    "    for i, ax in enumerate(axes.flat):\n",
    "        if i < min(num_images, len(os.listdir(output_dir))):\n",
    "            img_path = os.path.join(output_dir, os.listdir(output_dir)[i])\n",
    "            img = plt.imread(img_path)\n",
    "            ax.imshow(img)\n",
    "            ax.axis(\"off\")\n",
    "            ax.set_title(os.listdir(output_dir)[i])\n",
    "    plt.tight_layout()\n",
    "    plt.show()\n"
   ]
  },
  {
   "cell_type": "code",
   "execution_count": 18,
   "metadata": {},
   "outputs": [
    {
     "name": "stdout",
     "output_type": "stream",
     "text": [
      "Loaded Munsell Data:\n",
      "   hue  value  chroma         r         g         b         L         A  \\\n",
      "0  10B    1.0       1  0.069966  0.102321  0.125645  8.766975 -1.873666   \n",
      "1  10B    1.0       2  0.047615  0.104012  0.144154  8.752576 -2.435589   \n",
      "2  10B    1.0       3  0.012557  0.106032  0.164007  8.734874 -3.121113   \n",
      "3  10B    1.0       4  0.000000  0.108210  0.184417  9.105021 -1.903252   \n",
      "4  10B    1.0       5  0.000000  0.110270  0.204285  9.653357  0.194611   \n",
      "\n",
      "           B  \n",
      "0  -5.355077  \n",
      "1  -8.942874  \n",
      "2 -12.765529  \n",
      "3 -16.018042  \n",
      "4 -18.828227  \n"
     ]
    },
    {
     "ename": "NameError",
     "evalue": "name 'generate_synthetic_images' is not defined",
     "output_type": "error",
     "traceback": [
      "\u001b[0;31m---------------------------------------------------------------------------\u001b[0m",
      "\u001b[0;31mNameError\u001b[0m                                 Traceback (most recent call last)",
      "Cell \u001b[0;32mIn[18], line 6\u001b[0m\n\u001b[1;32m      3\u001b[0m munsell_data \u001b[38;5;241m=\u001b[39m load_munsell_data(\u001b[38;5;124m\"\u001b[39m\u001b[38;5;124m/home/sala/data/equivalent_munsell.csv\u001b[39m\u001b[38;5;124m\"\u001b[39m)\n\u001b[1;32m      5\u001b[0m \u001b[38;5;66;03m# Generate synthetic images\u001b[39;00m\n\u001b[0;32m----> 6\u001b[0m \u001b[43mgenerate_synthetic_images\u001b[49m(\n\u001b[1;32m      7\u001b[0m     munsell_data,\n\u001b[1;32m      8\u001b[0m     output_dir\u001b[38;5;241m=\u001b[39m\u001b[38;5;124m\"\u001b[39m\u001b[38;5;124m/home/sala/data/synthetic_images\u001b[39m\u001b[38;5;124m\"\u001b[39m,\n\u001b[1;32m      9\u001b[0m     size\u001b[38;5;241m=\u001b[39m(\u001b[38;5;241m150\u001b[39m, \u001b[38;5;241m150\u001b[39m),  \u001b[38;5;66;03m# Customize patch size\u001b[39;00m\n\u001b[1;32m     10\u001b[0m     add_noise\u001b[38;5;241m=\u001b[39m\u001b[38;5;28;01mTrue\u001b[39;00m,   \u001b[38;5;66;03m# Enable noise for texture simulation\u001b[39;00m\n\u001b[1;32m     11\u001b[0m     noise_level\u001b[38;5;241m=\u001b[39m\u001b[38;5;241m0.05\u001b[39m  \u001b[38;5;66;03m# Control noise intensity\u001b[39;00m\n\u001b[1;32m     12\u001b[0m )\n\u001b[1;32m     14\u001b[0m \u001b[38;5;66;03m# Visualize results\u001b[39;00m\n\u001b[1;32m     15\u001b[0m visualize_synthetic_images(\u001b[38;5;124m\"\u001b[39m\u001b[38;5;124m/home/sala/data/synthetic_images\u001b[39m\u001b[38;5;124m\"\u001b[39m)\n",
      "\u001b[0;31mNameError\u001b[0m: name 'generate_synthetic_images' is not defined"
     ]
    }
   ],
   "source": [
    "\n",
    "\n",
    "if __name__ == \"__main__\":\n",
    "    # Load Munsell data\n",
    "    munsell_data = load_munsell_data(\"/home/sala/data/equivalent_munsell.csv\")\n",
    "    \n",
    "    # Generate synthetic images\n",
    "    generate_synthetic_images(\n",
    "        munsell_data,\n",
    "        output_dir=\"/home/sala/data/synthetic_images\",\n",
    "        size=(150, 150),  # Customize patch size\n",
    "        add_noise=True,   # Enable noise for texture simulation\n",
    "        noise_level=0.05  # Control noise intensity\n",
    "    )\n",
    "    \n",
    "    # Visualize results\n",
    "    visualize_synthetic_images(\"/home/sala/data/synthetic_images\")"
   ]
  },
  {
   "cell_type": "code",
   "execution_count": null,
   "metadata": {},
   "outputs": [],
   "source": []
  }
 ],
 "metadata": {
  "kernelspec": {
   "display_name": "base",
   "language": "python",
   "name": "python3"
  },
  "language_info": {
   "codemirror_mode": {
    "name": "ipython",
    "version": 3
   },
   "file_extension": ".py",
   "mimetype": "text/x-python",
   "name": "python",
   "nbconvert_exporter": "python",
   "pygments_lexer": "ipython3",
   "version": "3.12.8"
  }
 },
 "nbformat": 4,
 "nbformat_minor": 2
}
