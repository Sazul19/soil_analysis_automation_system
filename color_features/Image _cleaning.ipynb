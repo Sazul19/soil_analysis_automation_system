{
 "cells": [
  {
   "cell_type": "code",
   "execution_count": null,
   "metadata": {},
   "outputs": [],
   "source": [
    "import os\n",
    "from PIL import Image\n",
    "import shutil"
   ]
  },
  {
   "cell_type": "code",
   "execution_count": null,
   "metadata": {},
   "outputs": [],
   "source": [
    "\n",
    "input_dir = \"./raw_dataset\"  \n",
    "output_dir = \"./cleaned_dataset\" "
   ]
  },
  {
   "cell_type": "code",
   "execution_count": null,
   "metadata": {},
   "outputs": [],
   "source": [
    "\n",
    "os.makedirs(output_dir, exist_ok=True)"
   ]
  },
  {
   "cell_type": "code",
   "execution_count": null,
   "metadata": {},
   "outputs": [],
   "source": [
    "def clean_dataset(input_dir, output_dir):\n",
    "    # Iterate through subdirectories (soil types)\n",
    "    for soil_type in os.listdir(input_dir):\n",
    "        soil_path = os.path.join(input_dir, soil_type)\n",
    "        \n",
    "        # Skip if not a directory\n",
    "        if not os.path.isdir(soil_path):\n",
    "            continue\n",
    "        \n",
    "        print(f\"Processing soil type: {soil_type}\")\n",
    "        \n",
    "        # Create corresponding output directory for soil type\n",
    "        cleaned_soil_path = os.path.join(output_dir, soil_type)\n",
    "        os.makedirs(cleaned_soil_path, exist_ok=True)\n",
    "        \n",
    "        # Process images in the subdirectory\n",
    "        for i, filename in enumerate(os.listdir(soil_path)):\n",
    "            file_path = os.path.join(soil_path, filename)\n",
    "            \n",
    "            try:\n",
    "                # Open image to ensure it's valid\n",
    "                with Image.open(file_path) as img:\n",
    "                    # Convert to RGB to ensure consistency\n",
    "                    img = img.convert(\"RGB\")\n",
    "                    \n",
    "                    # Resize image (optional, e.g., 256x256)\n",
    "                    img = img.resize((256, 256))\n",
    "                    \n",
    "                    # Save cleaned image with consistent naming\n",
    "                    cleaned_filename = f\"{soil_type}_{i+1}.jpg\"\n",
    "                    cleaned_path = os.path.join(cleaned_soil_path, cleaned_filename)\n",
    "                    img.save(cleaned_path, \"JPEG\")\n",
    "            \n",
    "            except Exception as e:\n",
    "                print(f\"Error processing file {file_path}: {e}\")\n",
    "                # Move problematic files to a separate folder\n",
    "                error_dir = \"./error_files\"\n",
    "                os.makedirs(error_dir, exist_ok=True)\n",
    "                shutil.move(file_path, os.path.join(error_dir, filename))\n",
    "    print(\"Data cleaning completed successfully.\")                        "
   ]
  },
  {
   "cell_type": "code",
   "execution_count": null,
   "metadata": {},
   "outputs": [],
   "source": [
    "# Run the cleaning function\n",
    "clean_dataset(input_dir, output_dir)"
   ]
  }
 ],
 "metadata": {
  "language_info": {
   "name": "python"
  }
 },
 "nbformat": 4,
 "nbformat_minor": 2
}
