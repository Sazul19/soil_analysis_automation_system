{
 "cells": [
  {
   "cell_type": "markdown",
   "metadata": {},
   "source": [
    " \n",
    "    Extract the dominant colors from an image using K-means clustering.\n",
    "    :param image_path: Path to the input image.\n",
    "    :param k: Number of dominant colors to extract.\n",
    "    :return: List of dominant colors in RGB.\n",
    "    "
   ]
  },
  {
   "cell_type": "code",
   "execution_count": null,
   "metadata": {},
   "outputs": [],
   "source": [
    "def extract_dominant_colors(image_path, k=3):\n",
    "   \n",
    "    \n",
    "    image = cv2.imread(image_path)\n",
    "    image = cv2.cvtColor(image, cv2.COLOR_BGR2RGB)  # Convert BGR to RGB\n",
    "    \n",
    "    # Reshape the image to a 2D array of pixels\n",
    "    pixels = image.reshape((-1, 3))\n",
    "    \n",
    "    # Apply K-means clustering\n",
    "    kmeans = KMeans(n_clusters=k, random_state=42)\n",
    "    kmeans.fit(pixels)\n",
    "    \n",
    "    # Extract dominant colors\n",
    "    dominant_colors = kmeans.cluster_centers_.astype(int)\n",
    "    return dominant_colors\n"
   ]
  },
  {
   "cell_type": "markdown",
   "metadata": {},
   "source": [
    "\n",
    "    Plot the extracted colors as a bar chart.\n",
    "    :param colors: List of colors in RGB.\n",
    "    "
   ]
  },
  {
   "cell_type": "code",
   "execution_count": null,
   "metadata": {},
   "outputs": [],
   "source": [
    "def plot_colors(colors):\n",
    "    \n",
    "    # Create a bar chart for the colors\n",
    "    plt.figure(figsize=(8, 2))\n",
    "    plt.axis('off')\n",
    "    bar = np.zeros((50, 300, 3), dtype=int)\n",
    "    step = 300 // len(colors)\n",
    "    for i, color in enumerate(colors):\n",
    "        bar[:, i * step:(i + 1) * step] = color\n",
    "    plt.imshow(bar)\n",
    "    plt.show()"
   ]
  }
 ],
 "metadata": {
  "language_info": {
   "name": "python"
  }
 },
 "nbformat": 4,
 "nbformat_minor": 2
}
