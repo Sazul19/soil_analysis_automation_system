{
 "cells": [
  {
   "cell_type": "code",
   "execution_count": 2,
   "metadata": {},
   "outputs": [],
   "source": [
    "import os\n",
    "import shutil\n",
    "from sklearn.model_selection import train_test_split\n",
    "from imgaug import augmenters as iaa\n",
    "import imageio"
   ]
  },
  {
   "cell_type": "code",
   "execution_count": 5,
   "metadata": {},
   "outputs": [],
   "source": [
    "import cv2\n",
    "\n",
    "def resize_image(image_path, output_size=(224, 224)):\n",
    "    \"\"\"\n",
    "    Resize an image to a standard size.\n",
    "    \n",
    "    Parameters:\n",
    "        image_path (str): Path to the input image.\n",
    "        output_size (tuple): Target size (width, height).\n",
    "    \n",
    "    Returns:\n",
    "        np.ndarray: Resized image.\n",
    "    \"\"\"\n",
    "    image = cv2.imread(image_path)\n",
    "    resized_image = cv2.resize(image, output_size)\n",
    "    return resized_image"
   ]
  },
  {
   "cell_type": "code",
   "execution_count": 6,
   "metadata": {},
   "outputs": [],
   "source": [
    "def convert_to_lab(image):\n",
    "    \"\"\"\n",
    "    Convert an image from BGR to LAB color space.\n",
    "    \n",
    "    Parameters:\n",
    "        image (np.ndarray): Input image in BGR format.\n",
    "    \n",
    "    Returns:\n",
    "        np.ndarray: Image in LAB color space.\n",
    "    \"\"\"\n",
    "    lab_image = cv2.cvtColor(image, cv2.COLOR_BGR2LAB)\n",
    "    return lab_image"
   ]
  },
  {
   "cell_type": "code",
   "execution_count": 7,
   "metadata": {},
   "outputs": [],
   "source": [
    "def normalize_lighting(image):\n",
    "    \"\"\"\n",
    "    Normalize lighting using CLAHE (Contrast-Limited Adaptive Histogram Equalization).\n",
    "    \n",
    "    Parameters:\n",
    "        image (np.ndarray): Input image in LAB color space.\n",
    "    \n",
    "    Returns:\n",
    "        np.ndarray: Image with normalized lighting.\n",
    "    \"\"\"\n",
    "    # Split LAB channels\n",
    "    l, a, b = cv2.split(image)\n",
    "    \n",
    "    # Apply CLAHE to the L channel\n",
    "    clahe = cv2.createCLAHE(clipLimit=3.0, tileGridSize=(8, 8))\n",
    "    l_normalized = clahe.apply(l)\n",
    "    \n",
    "    # Merge channels back\n",
    "    normalized_lab = cv2.merge((l_normalized, a, b))\n",
    "    return normalized_lab"
   ]
  },
  {
   "cell_type": "code",
   "execution_count": 8,
   "metadata": {},
   "outputs": [],
   "source": [
    "def denoise_image(image):\n",
    "    \"\"\"\n",
    "    Denoise an image using Gaussian blur.\n",
    "    \n",
    "    Parameters:\n",
    "        image (np.ndarray): Input image in BGR or LAB format.\n",
    "    \n",
    "    Returns:\n",
    "        np.ndarray: Denoised image.\n",
    "    \"\"\"\n",
    "    denoised_image = cv2.GaussianBlur(image, (5, 5), 0)\n",
    "    return denoised_image"
   ]
  },
  {
   "cell_type": "code",
   "execution_count": 9,
   "metadata": {},
   "outputs": [],
   "source": [
    "def preprocess_image(image_path, output_size=(256, 256)):\n",
    "    \"\"\"\n",
    "    Preprocess an image by resizing, converting to LAB, normalizing lighting, and denoising.\n",
    "    \n",
    "    Parameters:\n",
    "        image_path (str): Path to the input image.\n",
    "        output_size (tuple): Target size (width, height).\n",
    "    \n",
    "    Returns:\n",
    "        np.ndarray: Preprocessed image in LAB color space.\n",
    "    \"\"\"\n",
    "    # Step 1: Resize image\n",
    "    resized_image = resize_image(image_path, output_size)\n",
    "    \n",
    "    # Step 2: Convert to LAB color space\n",
    "    lab_image = convert_to_lab(resized_image)\n",
    "    \n",
    "    # Step 3: Normalize lighting\n",
    "    normalized_lab = normalize_lighting(lab_image)\n",
    "    \n",
    "    # Step 4: Denoise (optional)\n",
    "    preprocessed_image = denoise_image(normalized_lab)\n",
    "    \n",
    "    return preprocessed_image"
   ]
  },
  {
   "cell_type": "code",
   "execution_count": 12,
   "metadata": {},
   "outputs": [],
   "source": [
    "def preprocess_images_in_folder(input_folder, output_folder, output_size=(256, 256)):\n",
    "    \"\"\"\n",
    "    Preprocess all images in a folder and save them to an output folder.\n",
    "    \n",
    "    Parameters:\n",
    "        input_folder (str): Path to the folder containing input images.\n",
    "        output_folder (str): Path to the folder to save preprocessed images.\n",
    "        output_size (tuple): Target size (width, height).\n",
    "    \"\"\"\n",
    "    os.makedirs(output_folder, exist_ok=True)\n",
    "    image_files = [f for f in os.listdir(input_folder) if f.endswith(('.jpg', '.png'))]\n",
    "    \n",
    "    for image_file in image_files:\n",
    "        input_path = os.path.join(input_folder, image_file)\n",
    "        output_path = os.path.join(output_folder, image_file)\n",
    "        \n",
    "        # Preprocess the image\n",
    "        preprocessed_image = preprocess_image(input_path, output_size)\n",
    "        \n",
    "        # Save the preprocessed image\n",
    "        cv2.imwrite(output_path, preprocessed_image)\n",
    "\n",
    "# Example usage\n",
    "input_folder = \"/home/sala/data/organized_data/test/\"\n",
    "output_folder = \"/home/sala/data/organized_data/preprocessed_test\"\n",
    "preprocess_images_in_folder(input_folder, output_folder)"
   ]
  }
 ],
 "metadata": {
  "kernelspec": {
   "display_name": "base",
   "language": "python",
   "name": "python3"
  },
  "language_info": {
   "codemirror_mode": {
    "name": "ipython",
    "version": 3
   },
   "file_extension": ".py",
   "mimetype": "text/x-python",
   "name": "python",
   "nbconvert_exporter": "python",
   "pygments_lexer": "ipython3",
   "version": "3.12.8"
  }
 },
 "nbformat": 4,
 "nbformat_minor": 2
}
