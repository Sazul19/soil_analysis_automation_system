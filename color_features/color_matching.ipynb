{
 "cells": [
  {
   "cell_type": "code",
   "execution_count": 1,
   "metadata": {},
   "outputs": [
    {
     "ename": "ModuleNotFoundError",
     "evalue": "No module named 'nympy'",
     "output_type": "error",
     "traceback": [
      "\u001b[1;31m---------------------------------------------------------------------------\u001b[0m",
      "\u001b[1;31mModuleNotFoundError\u001b[0m                       Traceback (most recent call last)",
      "Cell \u001b[1;32mIn[1], line 2\u001b[0m\n\u001b[0;32m      1\u001b[0m \u001b[38;5;28;01mimport\u001b[39;00m \u001b[38;5;21;01mcv2\u001b[39;00m\n\u001b[1;32m----> 2\u001b[0m \u001b[38;5;28;01mimport\u001b[39;00m \u001b[38;5;21;01mnympy\u001b[39;00m  \u001b[38;5;28;01mas\u001b[39;00m \u001b[38;5;21;01mnp\u001b[39;00m\n\u001b[0;32m      3\u001b[0m \u001b[38;5;28;01mfrom\u001b[39;00m \u001b[38;5;21;01mspicy\u001b[39;00m\u001b[38;5;21;01m.\u001b[39;00m\u001b[38;5;21;01mspatial\u001b[39;00m \u001b[38;5;28;01mimport\u001b[39;00m distance\n",
      "\u001b[1;31mModuleNotFoundError\u001b[0m: No module named 'nympy'"
     ]
    }
   ],
   "source": [
    "import cv2\n",
    "import nympy  as np\n",
    "from spicy.spatial import distance"
   ]
  },
  {
   "cell_type": "code",
   "execution_count": null,
   "metadata": {},
   "outputs": [],
   "source": [
    "\n",
    "def rgb_to_lab(color_rgb):\n",
    "  \n",
    "    # Convert RGB to LAB using OpenCV\n",
    "    color_rgb = np.array([[color_rgb]], dtype=np.uint8)  # Reshape for OpenCV\n",
    "    color_lab = cv2.cvtColor(color_rgb, cv2.COLOR_RGB2LAB)\n",
    "    return tuple(color_lab[0][0])"
   ]
  },
  {
   "cell_type": "markdown",
   "metadata": {},
   "source": [
    "  \"\"\"\n",
    "    Convert an RGB color to LAB color space.\n",
    "    :param color_rgb: A tuple of (R, G, B) values (0-255).\n",
    "    :return: A tuple of (L, A, B) values.\n",
    "    \"\"\""
   ]
  },
  {
   "cell_type": "code",
   "execution_count": null,
   "metadata": {},
   "outputs": [],
   "source": [
    "\n",
    "def find_closest_lab_color(input_lab, reference_lab_colors):\n",
    "    \n",
    "    closest_color = None\n",
    "    min_distance = float('inf')\n",
    "    for ref_lab in reference_lab_colors:\n",
    "        distance = euclidean(input_lab, ref_lab)  # Compute Euclidean distance\n",
    "        if distance < min_distance:\n",
    "            min_distance = distance\n",
    "            closest_color = ref_lab\n",
    "    return closest_color, min_distance"
   ]
  },
  {
   "cell_type": "markdown",
   "metadata": {},
   "source": [
    "\"\"\"\n",
    "    Find the closest LAB color from a list of reference LAB colors.\n",
    "    :param input_lab: The LAB color to match (L, A, B).\n",
    "    :param reference_lab_colors: A list of LAB colors to match against.\n",
    "    :return: The closest LAB color and its distance.\n",
    "    \"\"\""
   ]
  }
 ],
 "metadata": {
  "kernelspec": {
   "display_name": "Python 3",
   "language": "python",
   "name": "python3"
  },
  "language_info": {
   "codemirror_mode": {
    "name": "ipython",
    "version": 3
   },
   "file_extension": ".py",
   "mimetype": "text/x-python",
   "name": "python",
   "nbconvert_exporter": "python",
   "pygments_lexer": "ipython3",
   "version": "3.12.1"
  }
 },
 "nbformat": 4,
 "nbformat_minor": 2
}
