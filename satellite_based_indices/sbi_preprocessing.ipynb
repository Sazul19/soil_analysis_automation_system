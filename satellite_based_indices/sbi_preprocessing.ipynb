{
 "cells": [
  {
   "cell_type": "code",
   "execution_count": null,
   "metadata": {},
   "outputs": [],
   "source": [
    "import numpy as np"
   ]
  },
  {
   "cell_type": "code",
   "execution_count": null,
   "metadata": {},
   "outputs": [],
   "source": [
    "def preprocessed_sbi(red_file, green_file, blue_file, output_file):\n",
    "    with rasterio.open(red_file) as r, rasterio.open(green_file) as g, rasterio.open(blue_file) as b:\n",
    "        red = r.read(1)\n",
    "        green = g.read(1)\n",
    "        blue = b.read(1)\n",
    "        \n",
    "        # Compute Soil Brightness Index\n",
    "        sbi = np.sqrt((red**2 + green**2 + blue**2) / 3)\n",
    "        \n",
    "        # Normalize SBI\n",
    "        sbi_normalized = (sbi - sbi.min()) / (sbi.max() - sbi.min())\n",
    "        \n",
    "        # Save preprocessed SBI\n",
    "        with rasterio.open(output_file, 'w', **r.meta) as dst:\n",
    "            dst.write(sbi_normalized, 1)\n"
   ]
  },
  {
   "cell_type": "code",
   "execution_count": null,
   "metadata": {},
   "outputs": [],
   "source": [
    "preprocessed_sbi('red.tif', 'green.tif', 'blue.tif', 'sbi_preprocessed.tif')"
   ]
  }
 ],
 "metadata": {
  "language_info": {
   "name": "python"
  }
 },
 "nbformat": 4,
 "nbformat_minor": 2
}
