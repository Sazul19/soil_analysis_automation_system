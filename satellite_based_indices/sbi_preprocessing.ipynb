{
 "cells": [
  {
   "cell_type": "code",
   "execution_count": null,
   "metadata": {},
   "outputs": [],
   "source": [
    "import numpy as np"
   ]
  },
  {
   "cell_type": "code",
   "execution_count": null,
   "metadata": {},
   "outputs": [],
   "source": [
    "\"\"\"\n",
    "    Preprocesses the Soil Brightness Index (SBI) using red, green, and blue band raster files.\n",
    "    Computes SBI, normalizes it, and saves the result as an output raster file.\n",
    "    \n",
    "    Parameters:\n",
    "    red_file (str): Path to the red band raster file.\n",
    "    green_file (str): Path to the green band raster file.\n",
    "    blue_file (str): Path to the blue band raster file.\n",
    "    output_file (str): Path to save the preprocessed SBI raster file.\n",
    "\"\"\"\n",
    "\n",
    "# Open raster files for red, green, and blue bands\n",
    "def preprocess_sbi(red_file, green_file, blue_file, output_file):\n",
    "    with rasterio.open(red_file) as r, rasterio.open(green_file) as g, rasterio.open(blue_file) as b:\n",
    "        red = r.read(1)  # Read red band data\n",
    "        green = g.read(1)  # Read green band data\n",
    "        blue = b.read(1)  # Read blue band data\n",
    "        \n",
    "        # Compute Soil Brightness Index\n",
    "        sbi = np.sqrt((red**2 + green**2 + blue**2) / 3)\n",
    "        \n",
    "        # Normalize SBI\n",
    "        sbi_normalized = (sbi - sbi.min()) / (sbi.max() - sbi.min())\n",
    "        \n",
    "        # Save preprocessed SBI\n",
    "        # Save the preprocessed SBI raster file with the same metadata a\n",
    "        with rasterio.open(output_file, 'w', **r.meta) as dst:\n",
    "            dst.write(sbi_normalized, 1)\n"
   ]
  },
  {
   "cell_type": "code",
   "execution_count": null,
   "metadata": {},
   "outputs": [],
   "source": [
    "# Example usage of the function\n",
    "preprocess_sbi('red.tif', 'green.tif', 'blue.tif', 'sbi_preprocessed.tif')"
   ]
  }
 ],
 "metadata": {
  "language_info": {
   "name": "python"
  }
 },
 "nbformat": 4,
 "nbformat_minor": 2
}
