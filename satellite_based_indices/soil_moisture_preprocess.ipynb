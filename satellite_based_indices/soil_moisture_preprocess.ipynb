{
 "cells": [
  {
   "cell_type": "code",
   "execution_count": null,
   "metadata": {},
   "outputs": [],
   "source": [
    "def preprocess_soil_moisture(input_file, output_file, moisture_threshold=0.1):\n",
    "    with rasterio.open(input_file) as src:\n",
    "        data = src.read(1)\n",
    "        \n",
    "        # Mask values below threshold\n",
    "        masked_data = data\n",
    "        masked_data[data < moisture_threshold] = 0\n",
    "        \n",
    "        # Save preprocessed soil moisture\n",
    "        with rasterio.open(output_file, 'w', **src.meta) as dst:\n",
    "            dst.write(masked_data, 1)"
   ]
  },
  {
   "cell_type": "code",
   "execution_count": null,
   "metadata": {},
   "outputs": [],
   "source": [
    "preprocess_soil_moisture('soil_moisture.tif', 'soil_moisture_preprocessed.tif', moisture_threshold=0.1)"
   ]
  }
 ],
 "metadata": {
  "language_info": {
   "name": "python"
  }
 },
 "nbformat": 4,
 "nbformat_minor": 2
}
