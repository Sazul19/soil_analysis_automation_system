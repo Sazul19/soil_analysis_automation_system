{
 "cells": [
  {
   "cell_type": "code",
   "execution_count": null,
   "metadata": {},
   "outputs": [],
   "source": [
    "\"\"\"\n",
    "    Preprocesses a Short-Wave Infrared (SWIR) band raster file by normalizing values and resampling.\n",
    "    \n",
    "    Parameters:\n",
    "    input_file (str): Path to the input SWIR raster file.\n",
    "    output_file (str): Path to save the preprocessed SWIR raster file.\n",
    "    target_resolution (float): Desired resolution for resampling the raster.\n",
    "\"\"\"\n",
    "\n",
    "# Open the SWIR raster file\n",
    "def preprocess_swir(input_file, output_file, target_resolution):\n",
    "    with rasterio.open(input_file) as src:  \n",
    "        data = src.read(1)\n",
    "        \n",
    "        # Normalize SWIR values\n",
    "        # Normalize SWIR values to range [0, 1]\n",
    "        normalized_data = (data - data.min()) / (data.max() - data.min())\n",
    "        \n",
    "        # Resample raster to the target resolution using bilinear interpolation\n",
    "        resampled_data = src.read(\n",
    "            out_shape=(\n",
    "                src.count,  # Number of bands remains the same\n",
    "                int(src.height * src.res[0] / target_resolution),     # New height based on target resolution\n",
    "                int(src.width * src.res[1] / target_resolution)   # New width based on target resolution\n",
    "            ),\n",
    "            resampling=Resampling.bilinear    # Bilinear resampling for smoother results\n",
    "        )\n",
    "        \n",
    "        # Save preprocessed SWIR\n",
    "        # Save the preprocessed SWIR raster file with original metadata\n",
    "        with rasterio.open(output_file, 'w', **src.meta) as dst:\n",
    "            dst.write(resampled_data)   # Write the resampled raster data\n"
   ]
  },
  {
   "cell_type": "code",
   "execution_count": null,
   "metadata": {},
   "outputs": [],
   "source": [
    "# Example usage of the function\n",
    "preprocess_swir('swir1.tif', 'swir1_preprocessed.tif', target_resolution=10)"
   ]
  }
 ],
 "metadata": {
  "language_info": {
   "name": "python"
  }
 },
 "nbformat": 4,
 "nbformat_minor": 2
}
