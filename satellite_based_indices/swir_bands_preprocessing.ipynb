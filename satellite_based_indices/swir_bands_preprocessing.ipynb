{
 "cells": [
  {
   "cell_type": "code",
   "execution_count": null,
   "metadata": {},
   "outputs": [],
   "source": [
    "def preprocess_swir(input_file, output_file, target_resolution):\n",
    "    with rasterio.open(input_file) as src:\n",
    "        data = src.read(1)\n",
    "        \n",
    "        # Normalize SWIR values\n",
    "        normalized_data = (data - data.min()) / (data.max() - data.min())\n",
    "        \n",
    "        # Resample raster\n",
    "        resampled_data = src.read(\n",
    "            out_shape=(\n",
    "                src.count,\n",
    "                int(src.height * src.res[0] / target_resolution),\n",
    "                int(src.width * src.res[1] / target_resolution)\n",
    "            ),\n",
    "            resampling=Resampling.bilinear\n",
    "        )\n",
    "        \n",
    "        # Save preprocessed SWIR\n",
    "        with rasterio.open(output_file, 'w', **src.meta) as dst:\n",
    "            dst.write(resampled_data)\n"
   ]
  },
  {
   "cell_type": "code",
   "execution_count": null,
   "metadata": {},
   "outputs": [],
   "source": [
    "preprocess_swir('swir1.tif', 'swir1_preprocessed.tif', target_resolution=10)"
   ]
  }
 ],
 "metadata": {
  "language_info": {
   "name": "python"
  }
 },
 "nbformat": 4,
 "nbformat_minor": 2
}
