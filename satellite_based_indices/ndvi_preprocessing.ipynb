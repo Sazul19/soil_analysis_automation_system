{
 "cells": [
  {
   "cell_type": "code",
   "execution_count": null,
   "metadata": {},
   "outputs": [],
   "source": [
    "# Import the rasterio library, which is used for reading and writing raster data\n",
    "import rasterio\n",
    "\n",
    "# Import the Resampling enum from rasterio.enums, which provides resampling methods \n",
    "# to interpolate raster data during processes like rescaling or transforming.\n",
    "from rasterio.enums import Resampling"
   ]
  },
  {
   "cell_type": "code",
   "execution_count": null,
   "metadata": {},
   "outputs": [],
   "source": [
    "# Function to preprocess NDVI raster data\n",
    "def preprocess_ndvi(input_file, output_file, target_resolution, aoi_bounds):\n",
    "    with rasterio.open(input_file) as src:\n",
    "        # Resample NDVI raster to the target resolution\n",
    "        # Get the original transformation (geospatial information) of the raster\n",
    "        transform = src.transform\n",
    "\n",
    "\n",
    "        # Resample the raster data to the target resolution using bilinear interpolation\n",
    "        resampled_data = src.read(\n",
    "            out_shape=(\n",
    "                src.count,    # Number of bands in the raster (e.g., 1 for NDVI)\n",
    "                int(src.height * src.res[0] / target_resolution),   # New height based on the target resolution\n",
    "                int(src.width * src.res[1] / target_resolution)     # New width based on the target resolution\n",
    "            ),\n",
    "            resampling=Resampling.bilinear  # Bilinear interpolation method to resample\n",
    "        )\n",
    "        \n",
    "        # Clip NDVI raster to AOI bounds\n",
    "        # Clip the resampled NDVI raster to the Area of Interest (AOI) bounds\n",
    "        # The bounds are provided as (min_x, min_y, max_x, max_y)\n",
    "        clipped_data = resampled_data[\n",
    "            :, aoi_bounds[1]:aoi_bounds[3], aoi_bounds[0]:aoi_bounds[2]     # Write the clipped and resampled data to the output file\n",
    "        ]\n",
    "        \n",
    "        # Save preprocessed NDVI\n",
    "        with rasterio.open(output_file, 'w', **src.meta) as dst:\n",
    "            dst.write(clipped_data)"
   ]
  },
  {
   "cell_type": "code",
   "execution_count": null,
   "metadata": {},
   "outputs": [],
   "source": [
    "# Call the function to preprocess the NDVI data\n",
    "# Example input file 'ndvi.tif', output file 'ndvi_preprocessed.tif', \n",
    "# target resolution of 10 meters, and AOI bounds (0, 0, 100, 100)\n",
    "\n",
    "preprocess_ndvi('ndvi.tif', 'ndvi_preprocessed.tif', target_resolution=10, aoi_bounds=(0, 0, 100, 100))\n"
   ]
  }
 ],
 "metadata": {
  "language_info": {
   "name": "python"
  }
 },
 "nbformat": 4,
 "nbformat_minor": 2
}
