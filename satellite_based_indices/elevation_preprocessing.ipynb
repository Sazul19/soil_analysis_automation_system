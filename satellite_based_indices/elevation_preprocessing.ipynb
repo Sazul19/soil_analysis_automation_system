{
 "cells": [
  {
   "cell_type": "code",
   "execution_count": 1,
   "metadata": {},
   "outputs": [
    {
     "ename": "ModuleNotFoundError",
     "evalue": "No module named 'richdem'",
     "output_type": "error",
     "traceback": [
      "\u001b[1;31m---------------------------------------------------------------------------\u001b[0m",
      "\u001b[1;31mModuleNotFoundError\u001b[0m                       Traceback (most recent call last)",
      "Cell \u001b[1;32mIn[1], line 2\u001b[0m\n\u001b[0;32m      1\u001b[0m \u001b[38;5;66;03m# Import the richdem library for working with digital elevation models (DEM)\u001b[39;00m\n\u001b[1;32m----> 2\u001b[0m \u001b[38;5;28;01mimport\u001b[39;00m \u001b[38;5;21;01mrichdem\u001b[39;00m \u001b[38;5;28;01mas\u001b[39;00m \u001b[38;5;21;01mrd\u001b[39;00m\n",
      "\u001b[1;31mModuleNotFoundError\u001b[0m: No module named 'richdem'"
     ]
    }
   ],
   "source": [
    "# Import the richdem library for working with digital elevation models (DEM)\n",
    "import richdem as rd"
   ]
  },
  {
   "cell_type": "code",
   "execution_count": null,
   "metadata": {},
   "outputs": [],
   "source": [
    "def preprocess_elevation(dem_file, output_slope_file, output_aspect_file):\n",
    "    # Load the DEM file using richdem\n",
    "    dem = rd.LoadGDAL(dem_file)\n",
    "\n",
    "    # Compute the slope in radians from the DEM\n",
    "    slope = rd.TerrainAttribute(dem, attrib='slope_radians')\n",
    "    # Save the computed slope to the output file\n",
    "    rd.SaveGDAL(output_slope_file, slope)\n",
    "    \n",
    "    \n",
    "    # Compute the aspect (direction of the steepest slope) from the DEM\n",
    "    aspect = rd.TerrainAttribute(dem, attrib='aspect')\n",
    "\n",
    "    # Save the computed aspect to the output file\n",
    "    rd.SaveGDAL(output_aspect_file, aspect)"
   ]
  },
  {
   "cell_type": "code",
   "execution_count": null,
   "metadata": {},
   "outputs": [],
   "source": [
    "# Example usage: process the 'dem.tif' file and save slope and aspect as output raster files\n",
    "preprocess_elevation('dem.tif', 'slope.tif', 'aspect.tif')"
   ]
  }
 ],
 "metadata": {
  "kernelspec": {
   "display_name": "Python 3",
   "language": "python",
   "name": "python3"
  },
  "language_info": {
   "codemirror_mode": {
    "name": "ipython",
    "version": 3
   },
   "file_extension": ".py",
   "mimetype": "text/x-python",
   "name": "python",
   "nbconvert_exporter": "python",
   "pygments_lexer": "ipython3",
   "version": "3.13.0"
  }
 },
 "nbformat": 4,
 "nbformat_minor": 2
}
