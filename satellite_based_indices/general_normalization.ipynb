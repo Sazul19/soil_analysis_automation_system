{
 "cells": [
  {
   "cell_type": "code",
   "execution_count": null,
   "metadata": {},
   "outputs": [],
   "source": [
    "from sklearn.preprocessing import MinMaxScaler\n",
    "import pandas as pd"
   ]
  },
  {
   "cell_type": "code",
   "execution_count": null,
   "metadata": {},
   "outputs": [],
   "source": [
    "def normalized_features(input_csv, output_csv):\n",
    "   \n",
    "    data = pd.read_csv(input_csv)\n",
    "    \n",
    "    \n",
    "    scaler = MinMaxScaler()\n",
    "    normalized_data = scaler.fit_transform(data.iloc[:, 2:]) \n",
    "    \n",
    "    normalized_df = pd.DataFrame(normalized_data, columns=data.columns[2:], index=data.index)\n",
    "    normalized_df.to_csv(output_csv, index=False)"
   ]
  },
  {
   "cell_type": "code",
   "execution_count": null,
   "metadata": {},
   "outputs": [],
   "source": [
    "normalized_features('features.csv', 'features_normalized.csv')"
   ]
  }
 ],
 "metadata": {
  "language_info": {
   "name": "python"
  }
 },
 "nbformat": 4,
 "nbformat_minor": 2
}
