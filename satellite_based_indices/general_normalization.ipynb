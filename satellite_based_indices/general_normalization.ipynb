{
 "cells": [
  {
   "cell_type": "code",
   "execution_count": null,
   "metadata": {},
   "outputs": [],
   "source": [
    "from sklearn.preprocessing import MinMaxScaler\n",
    "import pandas as pd"
   ]
  },
  {
   "cell_type": "code",
   "execution_count": null,
   "metadata": {},
   "outputs": [],
   "source": [
    "\n",
    "def normalize_features(input_csv, output_csv):\n",
    "    # Step 1: Read the input CSV file into a pandas DataFrame\n",
    "    data = pd.read_csv(input_csv)\n",
    "    \n",
    "    # Step 2: Initialize the MinMaxScaler to scale features between 0 and 1\n",
    "    scaler = MinMaxScaler()\n",
    "\n",
    "    # Step 3: Fit and transform the data starting from the third column (index 2) onward, excluding the first two columns\n",
    "    # These columns are assumed to be non-numerical (like IDs or labels).\n",
    "    normalized_data = scaler.fit_transform(data.iloc[:, 2:]) \n",
    "    \n",
    "    # Step 4: Create a new DataFrame from the normalized data, using the same column names and index from the original DataFrame\n",
    "    normalized_df = pd.DataFrame(normalized_data, columns=data.columns[2:], index=data.index)\n",
    "\n",
    "    # Step 5: Save the normalized data to an output CSV file, without the index column\n",
    "    normalized_df.to_csv(output_csv, index=False)"
   ]
  },
  {
   "cell_type": "code",
   "execution_count": null,
   "metadata": {},
   "outputs": [],
   "source": [
    "# Calling the function with the input and output file names\n",
    "normalize_features('features.csv', 'features_normalized.csv')"
   ]
  }
 ],
 "metadata": {
  "language_info": {
   "name": "python"
  }
 },
 "nbformat": 4,
 "nbformat_minor": 2
}
