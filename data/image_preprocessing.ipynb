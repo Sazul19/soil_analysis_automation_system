{
 "cells": [
  {
   "cell_type": "code",
   "execution_count": null,
   "metadata": {},
   "outputs": [],
   "source": [
    "pip install opencv-python numpy matplotlib scikit-image tensorflow fiftyone kaggle\n"
   ]
  },
  {
   "cell_type": "code",
   "execution_count": null,
   "metadata": {},
   "outputs": [],
   "source": [
    "import fiftyone as fo\n",
    "import fiftyone.zoo as foz\n",
    "import os\n",
    "import cv2\n",
    "import numpy as np\n",
    "from tqdm import tqdm"
   ]
  },
  {
   "cell_type": "code",
   "execution_count": null,
   "metadata": {},
   "outputs": [],
   "source": [
    "dataset = foz.load_zoo_dataset(\n",
    "    \"coco-2017\",\n",
    "    split=\"train\",\n",
    "    label_types=[],  # Only images, no labels\n",
    "    max_samples=5000,\n",
    "    dataset_name=\"coco_train_images\"\n",
    ")"
   ]
  },
  {
   "cell_type": "code",
   "execution_count": null,
   "metadata": {},
   "outputs": [],
   "source": [
    "dataset = foz.load_zoo_dataset(\n",
    "    \"coco-2014\",\n",
    "    split=\"train\",\n",
    "    label_types=[],\n",
    "    classes=[],\n",
    "    max_samples=5000,\n",
    "    dataset_name=\"coco_train_images2\"\n",
    ")"
   ]
  },
  {
   "cell_type": "code",
   "execution_count": null,
   "metadata": {},
   "outputs": [],
   "source": [
    "import kagglehub\n",
    "\n",
    "# Download latest version\n",
    "path = kagglehub.dataset_download(\"prasanshasatpathy/soil-types\")\n",
    "\n",
    "print(\"Path to dataset files:\", path)"
   ]
  },
  {
   "cell_type": "code",
   "execution_count": null,
   "metadata": {},
   "outputs": [],
   "source": [
    "import kagglehub\n",
    "path = kagglehub.dataset_download(\"jhislainematchouath/soil-types-dataset\")\n",
    "\n",
    "print(\"Path to dataset files:\", path)"
   ]
  },
  {
   "cell_type": "code",
   "execution_count": null,
   "metadata": {},
   "outputs": [],
   "source": [
    "output_dir = \"/home/sala/iit/dsgp/soil_analysis_automation_system/data/processed_images\"\n",
    "if not os.path.exists(output_dir):\n",
    "    os.makedirs(output_dir)"
   ]
  },
  {
   "cell_type": "markdown",
   "metadata": {},
   "source": [
    "Resize images"
   ]
  },
  {
   "cell_type": "code",
   "execution_count": null,
   "metadata": {},
   "outputs": [],
   "source": [
    "def preprocess_image(image_path, output_path, size=(224, 224)):\n",
    "    \"\"\"\n",
    "    Load an image, resize it, convert to LAB color space, and save.\n",
    "\n",
    "    Args:\n",
    "        image_path (str): Path to the input image.\n",
    "        output_path (str): Path to save the processed image.\n",
    "        size (tuple): Target dimensions (width, height) for resizing. Default is (224, 224).\n",
    "\n",
    "    Returns:\n",
    "        bool: True if the image was processed successfully, False otherwise.\n",
    "    \"\"\"\n",
    "    # Load the image\n",
    "    img = cv2.imread(image_path)\n",
    "    if img is None:\n",
    "        return False  # Skip if the image is not found or cannot be loaded\n",
    "\n",
    "    # Resize the image\n",
    "    img_resized = cv2.resize(img, size)\n",
    "\n",
    "    # Convert to LAB color space\n",
    "    img_lab = cv2.cvtColor(img_resized, cv2.COLOR_BGR2LAB)\n",
    "\n",
    "    # Save the processed image\n",
    "    cv2.imwrite(output_path, img_lab)\n",
    "    return True"
   ]
  },
  {
   "cell_type": "code",
   "execution_count": null,
   "metadata": {},
   "outputs": [],
   "source": [
    "def augment_image(image):\n",
    "    \"\"\"\n",
    "    Augments the image to simulate real-world lighting and focus variations.\n",
    "    \"\"\"\n",
    "    datagen = ImageDataGenerator(\n",
    "        rotation_range=40,\n",
    "        width_shift_range=0.2,\n",
    "        height_shift_range=0.2,\n",
    "        shear_range=0.2,\n",
    "        zoom_range=0.2,\n",
    "        horizontal_flip=True,\n",
    "        fill_mode='nearest',\n",
    "        brightness_range=[0.7, 1.3]\n",
    "    )\n",
    "\n",
    "    # Reshape the image for augmentation\n",
    "    image = image.reshape((1,) + image.shape)  # Adding batch dimension\n",
    "\n",
    "    # Apply augmentation\n",
    "    augmented_images = datagen.flow(image, batch_size=1)\n",
    "    \n",
    "    # Get the first augmented image\n",
    "    augmented_image = next(augmented_images)[0].astype(np.uint8)\n",
    "    \n",
    "    return augmented_image\n"
   ]
  },
  {
   "cell_type": "code",
   "execution_count": null,
   "metadata": {},
   "outputs": [],
   "source": [
    "import os\n",
    "import cv2\n",
    "\n",
    "def process_images_in_folder(input_folder, output_folder, target_size=(224, 224)):\n",
    "    \"\"\"\n",
    "    Process all images in the input folder and save them to the output folder.\n",
    "\n",
    "    Args:\n",
    "        input_folder (str): Path to the folder containing input images.\n",
    "        output_folder (str): Path to the folder where processed images will be saved.\n",
    "        target_size (tuple): Target dimensions (width, height) for resizing. Default is (224, 224).\n",
    "    \"\"\"\n",
    "    # Create the output folder if it doesn't exist\n",
    "    if not os.path.exists(output_folder):\n",
    "        os.makedirs(output_folder)\n",
    "\n",
    "    # Loop through all images in the folder\n",
    "    for filename in os.listdir(input_folder):\n",
    "        if filename.lower().endswith((\".jpg\", \".png\", \".jpeg\")):  # Case-insensitive check\n",
    "            # Construct full paths\n",
    "            image_path = os.path.join(input_folder, filename)\n",
    "            output_path = os.path.join(output_folder, f\"processed_{filename}\")\n",
    "\n",
    "            # Preprocess the image\n",
    "            success = preprocess_image(image_path, output_path, target_size)\n",
    "            \n",
    "            if success:\n",
    "                print(f\"Processed and saved: {output_path}\")\n",
    "            else:\n",
    "                print(f\"Skipped (invalid image): {image_path}\")"
   ]
  },
  {
   "cell_type": "code",
   "execution_count": null,
   "metadata": {},
   "outputs": [],
   "source": [
    "input_folder = \"/home/sala/soil_data\" \n",
    "output_folder = '/home/sala/iit/dsgp/preprocessed_data/general_data'  \n",
    "\n",
    "process_images_in_folder(input_folder, output_folder)"
   ]
  }
 ],
 "metadata": {
  "kernelspec": {
   "display_name": "myenv",
   "language": "python",
   "name": "python3"
  },
  "language_info": {
   "codemirror_mode": {
    "name": "ipython",
    "version": 3
   },
   "file_extension": ".py",
   "mimetype": "text/x-python",
   "name": "python",
   "nbconvert_exporter": "python",
   "pygments_lexer": "ipython3",
   "version": "3.10.16"
  }
 },
 "nbformat": 4,
 "nbformat_minor": 2
}
