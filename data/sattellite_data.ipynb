{
 "cells": [
  {
   "cell_type": "code",
   "execution_count": null,
   "metadata": {},
   "outputs": [],
   "source": [
    "pip install geemap earthengine-api rasterio geopandas numpy pandas matplotlib scikit-learn joblib fastapi uvicorn\n"
   ]
  },
  {
   "cell_type": "code",
   "execution_count": null,
   "metadata": {},
   "outputs": [
    {
     "data": {
      "text/html": [
       "<p>To authorize access needed by Earth Engine, open the following\n",
       "        URL in a web browser and follow the instructions:</p>\n",
       "        <p><a href=https://code.earthengine.google.com/client-auth?scopes=https%3A//www.googleapis.com/auth/earthengine%20https%3A//www.googleapis.com/auth/cloud-platform%20https%3A//www.googleapis.com/auth/devstorage.full_control&request_id=Q5sI41farT-8V1KLg__uth76Z7UkaQBJA0rdjc7exEA&tc=xS5ppv8IB1-Mdoa2kWVghU19Zmqfh3UrF-7xmrtniW4&cc=vOlpeGiFwvdycbto3Fn_JsNvrIOM1puNFpp6gyvsDd0>https://code.earthengine.google.com/client-auth?scopes=https%3A//www.googleapis.com/auth/earthengine%20https%3A//www.googleapis.com/auth/cloud-platform%20https%3A//www.googleapis.com/auth/devstorage.full_control&request_id=Q5sI41farT-8V1KLg__uth76Z7UkaQBJA0rdjc7exEA&tc=xS5ppv8IB1-Mdoa2kWVghU19Zmqfh3UrF-7xmrtniW4&cc=vOlpeGiFwvdycbto3Fn_JsNvrIOM1puNFpp6gyvsDd0</a></p>\n",
       "        <p>The authorization workflow will generate a code, which you should paste in the box below.</p>\n",
       "        "
      ],
      "text/plain": [
       "<IPython.core.display.HTML object>"
      ]
     },
     "metadata": {},
     "output_type": "display_data"
    },
    {
     "name": "stderr",
     "output_type": "stream",
     "text": [
      "/usr/bin/xdg-open: 882: x-www-browser: not found\n",
      "/usr/bin/xdg-open: 882: firefox: not found\n",
      "/usr/bin/xdg-open: 882: iceweasel: not found\n",
      "/usr/bin/xdg-open: 882: seamonkey: not found\n",
      "/usr/bin/xdg-open: 882: mozilla: not found\n",
      "/usr/bin/xdg-open: 882: epiphany: not found\n",
      "/usr/bin/xdg-open: 882: konqueror: not found\n",
      "/usr/bin/xdg-open: 882: chromium: not found\n",
      "/usr/bin/xdg-open: 882: chromium-browser: not found\n",
      "/usr/bin/xdg-open: 882: google-chrome: not found\n",
      "/usr/bin/xdg-open: 882: www-browser: not found\n",
      "/usr/bin/xdg-open: 882: links2: not found\n",
      "/usr/bin/xdg-open: 882: elinks: not found\n",
      "/usr/bin/xdg-open: 882: links: not found\n",
      "/usr/bin/xdg-open: 882: lynx: not found\n",
      "/usr/bin/xdg-open: 882: w3m: not found\n",
      "xdg-open: no method available for opening 'https://code.earthengine.google.com/client-auth?scopes=https%3A//www.googleapis.com/auth/earthengine%20https%3A//www.googleapis.com/auth/cloud-platform%20https%3A//www.googleapis.com/auth/devstorage.full_control&request_id=Q5sI41farT-8V1KLg__uth76Z7UkaQBJA0rdjc7exEA&tc=xS5ppv8IB1-Mdoa2kWVghU19Zmqfh3UrF-7xmrtniW4&cc=vOlpeGiFwvdycbto3Fn_JsNvrIOM1puNFpp6gyvsDd0'\n"
     ]
    },
    {
     "name": "stdout",
     "output_type": "stream",
     "text": [
      "\n",
      "Successfully saved authorization token.\n"
     ]
    }
   ],
   "source": [
    "import ee\n",
    "import geemap\n",
    "\n",
    "# Authenticate to GEE\n",
    "try:\n",
    "    ee.Initialize()\n",
    "except Exception as e:\n",
    "    ee.Authenticate()\n",
    "    ee.Initialize()\n"
   ]
  },
  {
   "cell_type": "code",
   "execution_count": null,
   "metadata": {},
   "outputs": [],
   "source": [
    "# Define Area of Interest (AOI) - 10km buffer around a point\n",
    "aoi = ee.Geometry.Point([80.7718, 7.8731]).buffer(10000)\n",
    "\n",
    "# Load Sentinel-2 imagery for the given region and timeframe\n",
    "sentinel = ee.ImageCollection(\"COPERNICUS/S2\") \\\n",
    "    .filterBounds(aoi) \\\n",
    "    .filterDate(\"2023-01-01\", \"2023-12-31\") \\\n",
    "    .filter(ee.Filter.lt(\"CLOUDY_PIXEL_PERCENTAGE\", 10)) \\\n",
    "    .median()  # Reduces cloud effects\n",
    "\n",
    "# Select relevant spectral bands\n",
    "bands = [\"B2\", \"B3\", \"B4\", \"B8\", \"B11\", \"B12\"]  # Blue, Green, Red, NIR, SWIR1, SWIR2\n",
    "sentinel = sentinel.select(bands).reproject(crs=\"EPSG:4326\", scale=30)\n",
    "\n",
    "# Get Download URL\n",
    "url = sentinel.getDownloadURL({\n",
    "    'scale': 30,\n",
    "    'region': aoi,\n",
    "    'format': 'GeoTIFF'\n",
    "})\n",
    "\n",
    "print(\"Download URL:\", url)"
   ]
  }
 ],
 "metadata": {
  "kernelspec": {
   "display_name": "Python 3",
   "language": "python",
   "name": "python3"
  },
  "language_info": {
   "codemirror_mode": {
    "name": "ipython",
    "version": 3
   },
   "file_extension": ".py",
   "mimetype": "text/x-python",
   "name": "python",
   "nbconvert_exporter": "python",
   "pygments_lexer": "ipython3",
   "version": "3.13.0"
  }
 },
 "nbformat": 4,
 "nbformat_minor": 2
}
